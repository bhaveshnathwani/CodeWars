{
 "cells": [
  {
   "cell_type": "markdown",
   "metadata": {},
   "source": [
    "# Soduko Solution Validator"
   ]
  },
  {
   "cell_type": "markdown",
   "metadata": {},
   "source": [
    "__Latest Update:__ 26-11-19\n",
    "<br>\n",
    "__Author:__ Bhavesh Nathwani"
   ]
  },
  {
   "cell_type": "markdown",
   "metadata": {},
   "source": [
    "### The Challenge:\n",
    "https://www.codewars.com/kata/sudoku-solution-validator/train/python\n",
    "<br>\n",
    "<br>\n",
    "**Sudoku Background**\n",
    "<br>\n",
    "Sudoku is a game played on a 9x9 grid. \n",
    "<br>\n",
    "The goal of the game is to fill all cells of the grid with digits from 1 to 9, so that each column, each row, and each of the nine 3x3 sub-grids (also known as blocks) contain all of the digits from 1 to 9.\n",
    "<br>\n",
    "(More info at: http://en.wikipedia.org/wiki/Sudoku)\n",
    "<br>\n",
    "<br>\n",
    "**Sudoku Solution Validator**\n",
    "<br>\n",
    "Write a function validSolution/ValidateSolution/valid_solution() that accepts a 2D array representing a Sudoku board, and returns true if it is a valid solution, or false otherwise. \n",
    "<br>\n",
    "The cells of the sudoku board may also contain 0's, which will represent empty cells. \n",
    "<br>\n",
    "Boards containing one or more zeroes are considered to be invalid solutions.\n",
    "<br>\n",
    "<br>\n",
    "**Note:**\n",
    "<br>\n",
    "The board is always 9 cells by 9 cells, and every cell only contains integers from 0 to 9.\n",
    "<br>\n",
    "<br>\n",
    "**Examples:**\n",
    "<br>\n",
    "validSolution([\n",
    "<br>\n",
    "  [5, 3, 4, 6, 7, 8, 9, 1, 2],\n",
    "<br>\n",
    "  [6, 7, 2, 1, 9, 5, 3, 4, 8],\n",
    "<br>\n",
    "  [1, 9, 8, 3, 4, 2, 5, 6, 7],\n",
    "<br>\n",
    "  [8, 5, 9, 7, 6, 1, 4, 2, 3],\n",
    "<br>\n",
    "  [4, 2, 6, 8, 5, 3, 7, 9, 1],\n",
    "<br>\n",
    "  [7, 1, 3, 9, 2, 4, 8, 5, 6],\n",
    "<br>\n",
    "  [9, 6, 1, 5, 3, 7, 2, 8, 4],\n",
    "<br>\n",
    "  [2, 8, 7, 4, 1, 9, 6, 3, 5],\n",
    "<br>\n",
    "  [3, 4, 5, 2, 8, 6, 1, 7, 9]\n",
    "<br>\n",
    "]); // => true\n",
    "<br>\n",
    "<br>\n",
    "validSolution([\n",
    "<br>\n",
    "  [5, 3, 4, 6, 7, 8, 9, 1, 2], \n",
    "<br>\n",
    "  [6, 7, 2, 1, 9, 0, 3, 4, 8],\n",
    "<br>\n",
    "  [1, 0, 0, 3, 4, 2, 5, 6, 0],\n",
    "<br>\n",
    "  [8, 5, 9, 7, 6, 1, 0, 2, 0],\n",
    "<br>\n",
    "  [4, 2, 6, 8, 5, 3, 7, 9, 1],\n",
    "<br>\n",
    "  [7, 1, 3, 9, 2, 4, 8, 5, 6],\n",
    "<br>\n",
    "  [9, 0, 1, 5, 3, 7, 2, 1, 4],\n",
    "<br>\n",
    "  [2, 8, 7, 4, 1, 9, 6, 3, 5],\n",
    "<br>\n",
    "  [3, 0, 0, 4, 8, 1, 1, 7, 9]\n",
    "<br>\n",
    "]); // => false"
   ]
  },
  {
   "cell_type": "code",
   "execution_count": 52,
   "metadata": {},
   "outputs": [],
   "source": [
    "import collections\n",
    "import itertools\n",
    "\n",
    "def validSolution(board):\n",
    "    result = True\n",
    "    \n",
    "    # Check for element values outside of accepted range (1 through to 9)\n",
    "    for row in board:\n",
    "        for col in row:\n",
    "            if col<1 or col>9:\n",
    "                result = False\n",
    "                \n",
    "    # Check for repeat elements within any row\n",
    "    for i in range(len(board)):\n",
    "        dupes_row = [item for item, count in collections.Counter(board[i]).items() if count > 1]\n",
    "        if len(dupes_row) > 0:\n",
    "            result = False\n",
    "\n",
    "    # Check for repeat elements within any column\n",
    "    columns = []\n",
    "    for i in range(len(board)):\n",
    "        templist = []\n",
    "        for row in board:\n",
    "            templist.append(row[i])\n",
    "        columns.append(templist)\n",
    "\n",
    "        \n",
    "        dupes_col = [item for item, count in collections.Counter(columns[i]).items() if count > 1]\n",
    "\n",
    "        if len(dupes_col) > 0:\n",
    "            result = False\n",
    "        \n",
    "    # Check for repeat elements within any 3x3 grid\n",
    "    # blocks = [list of 1st elements],[list of 2nd elements]...[list of 9th elements]\n",
    "    block_positions = []\n",
    "    for r,c in itertools.product(range(3), repeat=2):\n",
    "        block_positions.append([board[r+i][c+j] for i,j in itertools.product(range(0, 9, 3), repeat=2)])\n",
    "\n",
    "    blocks = []\n",
    "    for i in range(len(block_positions)):\n",
    "        blocks.append([position[i] for position in block_positions])\n",
    "\n",
    "    for i in range(len(blocks)):\n",
    "        dupes_grid = [item for item, count in collections.Counter(blocks[i]).items() if count > 1]\n",
    "        if len(dupes_grid)>0:\n",
    "            result = False\n",
    "\n",
    "    return result\n"
   ]
  },
  {
   "cell_type": "markdown",
   "metadata": {},
   "source": [
    "### Testing with a valid and invalid soduko solution:"
   ]
  },
  {
   "cell_type": "code",
   "execution_count": 53,
   "metadata": {},
   "outputs": [],
   "source": [
    "valid_board = [          [5, 3, 4, 6, 7, 8, 9, 1, 2], \n",
    "                         [6, 7, 2, 1, 9, 5, 3, 4, 8],\n",
    "                         [1, 9, 8, 3, 4, 2, 5, 6, 7],\n",
    "                         [8, 5, 9, 7, 6, 1, 4, 2, 3],\n",
    "                         [4, 2, 6, 8, 5, 3, 7, 9, 1],\n",
    "                         [7, 1, 3, 9, 2, 4, 8, 5, 6],\n",
    "                         [9, 6, 1, 5, 3, 7, 2, 8, 4],\n",
    "                         [2, 8, 7, 4, 1, 9, 6, 3, 5],\n",
    "                         [3, 4, 5, 2, 8, 6, 1, 7, 9]]\n",
    "\n",
    "invalid_board =         [[5, 3, 4, 6, 7, 8, 9, 1, 2], \n",
    "                         [6, 7, 2, 1, 9, 0, 3, 4, 9],\n",
    "                         [1, 0, 0, 3, 4, 2, 5, 6, 0],\n",
    "                         [8, 5, 9, 7, 6, 1, 0, 2, 0],\n",
    "                         [4, 2, 6, 8, 5, 3, 7, 9, 1],\n",
    "                         [7, 1, 3, 9, 2, 4, 8, 5, 6],\n",
    "                         [9, 0, 1, 5, 3, 7, 2, 1, 4],\n",
    "                         [2, 8, 7, 4, 1, 9, 6, 3, 5],\n",
    "                         [3, 0, 0, 4, 8, 1, 1, 7, 9]]\n"
   ]
  },
  {
   "cell_type": "code",
   "execution_count": 56,
   "metadata": {},
   "outputs": [
    {
     "data": {
      "text/plain": [
       "True"
      ]
     },
     "execution_count": 56,
     "metadata": {},
     "output_type": "execute_result"
    }
   ],
   "source": [
    "validSolution(valid_board)"
   ]
  },
  {
   "cell_type": "code",
   "execution_count": 57,
   "metadata": {},
   "outputs": [
    {
     "data": {
      "text/plain": [
       "False"
      ]
     },
     "execution_count": 57,
     "metadata": {},
     "output_type": "execute_result"
    }
   ],
   "source": [
    "validSolution(invalid_board)"
   ]
  }
 ],
 "metadata": {
  "kernelspec": {
   "display_name": "Python 3",
   "language": "python",
   "name": "python3"
  },
  "language_info": {
   "codemirror_mode": {
    "name": "ipython",
    "version": 3
   },
   "file_extension": ".py",
   "mimetype": "text/x-python",
   "name": "python",
   "nbconvert_exporter": "python",
   "pygments_lexer": "ipython3",
   "version": "3.7.3"
  }
 },
 "nbformat": 4,
 "nbformat_minor": 2
}
