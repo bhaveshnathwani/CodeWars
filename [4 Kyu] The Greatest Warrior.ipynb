{
 "cells": [
  {
   "cell_type": "markdown",
   "metadata": {},
   "source": [
    "# The Greatest Warrior\n"
   ]
  },
  {
   "cell_type": "markdown",
   "metadata": {},
   "source": [
    "__Latest Update:__ 25-11-19\n",
    "<br>\n",
    "__Author:__ Bhavesh Nathwani"
   ]
  },
  {
   "cell_type": "markdown",
   "metadata": {},
   "source": [
    "### The Challenge:\n",
    "https://www.codewars.com/kata/the-greatest-warrior/train/python\n",
    "<br>\n",
    "<br>\n",
    "**Description:**\n",
    "<br>\n",
    "Create a class called Warrior which calculates and keeps track of their level and skills, and ranks them as the warrior they've proven to be.\n",
    "<br>\n",
    "<br>\n",
    "**Business Rules:**\n",
    "<br>\n",
    " - A warrior starts at level 1 and can progress all the way to 100.\n",
    " - A warrior starts at rank \"Pushover\" and can progress all the way to \"Greatest\".\n",
    " - The only acceptable range of rank values is \"Pushover\", \"Novice\", \"Fighter\", \"Warrior\", \"Veteran\", \"Sage\", \"Elite\", \"Conqueror\", \"Champion\", \"Master\", \"Greatest\".\n",
    " - Warriors will compete in battles. Battles will always accept an enemy level to match against your own.\n",
    " - With each battle successfully finished, your warrior's experience is updated based on the enemy's level.\n",
    " - The experience earned from the battle is relative to what the warrior's current level is compared to the level of the enemy.\n",
    " - A warrior's experience starts from 100. Each time the warrior's experience increases by another 100, the warrior's level rises to the next level.\n",
    " - At every 10 levels, your warrior will reach a new rank tier. (ex. levels 1-9 falls within \"Pushover\" tier, levels 80-89 fall within \"Champion\" tier, etc.)\n",
    " - A warrior cannot progress beyond level 100 and rank \"Greatest\".\n",
    "<br>\n",
    "\n",
    "**Battle Progress Rules & Calculations:**\n",
    " - If an enemy level does not fall in the range of 1 to 100, the battle cannot happen and should return \"Invalid level\".\n",
    " - Completing a battle against an enemy with the same level as your warrior will be worth 10 experience points.\n",
    " - Completing a battle against an enemy who is one level lower than your warrior will be worth 5 experience points.\n",
    " - Completing a battle against an enemy who is two levels lower or more than your warrior will give 0 experience points.\n",
    " - Completing a battle against an enemy who is one level higher or more than your warrior will accelarate your experience gaining. The greater the difference between levels, the more experinece your warrior will gain. The formula is 20 * diff * diff where diff equals the difference in levels between the enemy and your warrior.\n",
    " - However, if your warrior is at least one rank lower than your enemy, and at least 5 levels lower, your warrior cannot fight against an enemy that strong and must instead return \"You've been defeated\".\n",
    " - Every successful battle will also return one of three responses: \"Easy fight\", \"A good fight\", \"An intense fight\". Return \"Easy fight\" if your warrior is 2 or more levels higher than your enemy's level. Return \"A good fight\" if your warrior is either 1 level higher or equal to your enemy's level. Return \"An intense fight\" if your warrior's level is lower than the enemy's level.\n",
    "<br>\n",
    "\n",
    "**Logic Examples**\n",
    " - If a warrior level 1 fights an enemy level 1, they will receive 10 experience points.\n",
    " - If a warrior level 1 fights an enemy level 3, they will receive 80 experience points.\n",
    " - If a warrior level 5 fights an enemy level 4, they will receive 5 experience points.\n",
    " - If a warrior level 3 fights an enemy level 9, they will receive 720 experience points, resulting in the warrior rising up by at least 7 levels.\n",
    " - If a warrior level 8 fights an enemy level 13, they will receive 0 experience points and return \"You've been defeated\". (Remember, difference in rank & enemy level being 5 levels higher or more must be established for this.)\n",
    " - If a warrior level 6 fights an enemy level 2, they will receive 0 experience points.\n",
    "<br>\n",
    "\n",
    "**Training Rules & Calculations:**\n",
    " - In addition to earning experience point from battles, warriors can also gain experience points from training.\n",
    " - Training will accept an array of three elements (except in java where you'll get 3 separated arguments): the description, the experience points your warrior earns, and the minimum level requirement.\n",
    " - If the warrior's level meets the minimum level requirement, the warrior will receive the experience points from it and store the description of the training. It should end up returning that description as well.\n",
    " - If the warrior's level does not meet the minimum level requirement, the warrior doesn not receive the experience points and description and instead returns \"Not strong enough\", without any archiving of the result.\n",
    "<br>\n",
    "\n",
    "**Code Examples:**\n",
    "<br>\n",
    "- bruce_lee = Warrior()\n",
    "<br>\n",
    "- bruce_lee.level         # => 1\n",
    "<br>\n",
    "- bruce_lee.experience    # => 100\n",
    "<br>\n",
    "- bruce_lee.rank          # => \"Pushover\"\n",
    "<br>\n",
    "- bruce_lee.achievements  # => []\n",
    "<br>\n",
    "- bruce_lee.training([\"Defeated Chuck Norris\", 9000, 1]) # => \"Defeated Chuck Norris\"\n",
    "<br>\n",
    "- bruce_lee.experience    # => 9100\n",
    "<br>\n",
    "- bruce_lee.level         # => 91\n",
    "<br>\n",
    "- bruce_lee.rank          # => \"Master\"\n",
    "<br>\n",
    "- bruce_lee.battle(90)    # => \"A good fight\"\n",
    "<br>\n",
    "- bruce_lee.experience    # => 9105\n",
    "<br>\n",
    "- bruce_lee.achievements  # => [\"Defeated Chuck Norris\"]"
   ]
  },
  {
   "cell_type": "code",
   "execution_count": 38,
   "metadata": {},
   "outputs": [],
   "source": [
    "class Warrior():\n",
    "    \n",
    "    def __init__(self):\n",
    "        self.level = 1\n",
    "        self.experience = 100\n",
    "        self.rank_pos = 1\n",
    "        self.achievements = []\n",
    "        self.rank = \"Pushover\"\n",
    "        \n",
    "    def rank_xp(self, experience):\n",
    "        if 0<=experience<=999:\n",
    "            return \"Pushover\"\n",
    "        elif 1000<=experience<=1999:\n",
    "            return \"Novice\"\n",
    "        elif 2000<=experience<=2999:\n",
    "            return \"Fighter\"\n",
    "        elif 3000<=experience<=3999:\n",
    "            return \"Warrior\"\n",
    "        elif 4000<=experience<=4999:\n",
    "            return \"Veteran\"\n",
    "        elif 5000<=experience<=5999:\n",
    "            return \"Sage\"\n",
    "        elif 6000<=experience<=6999:\n",
    "            return \"Elite\"\n",
    "        elif 7000<=experience<=7999:\n",
    "            return \"Conqueror\"\n",
    "        elif 8000<=experience<=8999:\n",
    "             return \"Champion\"\n",
    "        elif 9000<=experience<=9999:\n",
    "            return \"Master\"\n",
    "        elif experience == 10000:\n",
    "            return \"Greatest\"\n",
    "            \n",
    "    def add_experience(self, experience):\n",
    "        \n",
    "        if self.experience + experience >10000:\n",
    "            self.experience = 10000\n",
    "            self.level = 100\n",
    "            self.rank = self.rank_xp(self.experience)\n",
    "        else:\n",
    "            self.experience += experience\n",
    "            self.level = divmod(self.experience,100)[0]\n",
    "            self.rank = self.rank_xp(self.experience)\n",
    "    \n",
    "        \n",
    "    def get_rank_position(self, name):\n",
    "        \n",
    "        rank_positions = [\"Pushover\"    \\\n",
    "                          ,\"Novice\"     \\\n",
    "                          , \"Fighter\"   \\\n",
    "                          , \"Warrior\"   \\\n",
    "                          , \"Veteran\"   \\\n",
    "                          , \"Sage\"      \\\n",
    "                          , \"Elite\"     \\\n",
    "                          , \"Conqueror\" \\\n",
    "                          , \"Champion\"  \\\n",
    "                          , \"Master\"    \\\n",
    "                          , \"Greatest\"]\n",
    "        \n",
    "        return rank_positions.index(name)\n",
    "    \n",
    "\n",
    "    def battle(self, enemy_level):\n",
    "        \n",
    "        if 1<=enemy_level<=100:\n",
    "            # Losses\n",
    "            if (self.get_rank_position(self.rank_xp(enemy_level*100)) > self.get_rank_position(self.rank)) \\\n",
    "            and (enemy_level >= self.level +5):\n",
    "                return \"You've been defeated\"\n",
    "            \n",
    "            else:\n",
    "                if enemy_level == self.level:\n",
    "                    self.add_experience(10)\n",
    "                    return \"A good fight\"\n",
    "                elif enemy_level == self.level-1:\n",
    "                    self.add_experience(5)\n",
    "                    return \"A good fight\"\n",
    "                elif enemy_level <= self.level-2:\n",
    "                    return \"Easy fight\"\n",
    "                elif enemy_level > self.level:\n",
    "                    diff = enemy_level - self.level\n",
    "                    exp_reward = 20 * diff * diff\n",
    "                    self.add_experience(exp_reward)\n",
    "                    return \"An intense fight\"\n",
    "\n",
    "        else:\n",
    "            return \"Invalid level\"\n",
    "        \n",
    "    def training(self, arguments):\n",
    "        \n",
    "        # arguments[0] = Description of defeat with name\n",
    "        # arguments[1] = experience\n",
    "        # arguments[2] = level requirement\n",
    "        \n",
    "        if arguments[2] <= self.level:\n",
    "            self.add_experience(arguments[1])\n",
    "            self.rank_xp(self.experience)\n",
    "            \n",
    "            #List of achievements\n",
    "            if isinstance(arguments[0], list):\n",
    "                for argument in arguments[0]:\n",
    "                    self.achievements.append(argument)\n",
    "                         \n",
    "            # Single achievement\n",
    "            else:\n",
    "                self.achievements.append(arguments[0])\n",
    "            \n",
    "            return self.achievements[-1]\n",
    "        else:\n",
    "            return \"Not strong enough\"\n",
    "     "
   ]
  },
  {
   "cell_type": "markdown",
   "metadata": {},
   "source": [
    "### Testing a new warrior:"
   ]
  },
  {
   "cell_type": "code",
   "execution_count": 39,
   "metadata": {},
   "outputs": [
    {
     "name": "stdout",
     "output_type": "stream",
     "text": [
      "Level: 1 \n",
      "Experience: 100 \n",
      "Rank: Pushover \n",
      "Achievements: []\n"
     ]
    }
   ],
   "source": [
    "# New instance of a warrior\n",
    "bruce_lee = Warrior()\n",
    "print(\"Level: {} \\nExperience: {} \\nRank: {} \\nAchievements: {}\".format(bruce_lee.level, bruce_lee.experience,bruce_lee.rank, bruce_lee.achievements))"
   ]
  },
  {
   "cell_type": "code",
   "execution_count": 40,
   "metadata": {},
   "outputs": [
    {
     "name": "stdout",
     "output_type": "stream",
     "text": [
      "Level: 91 \n",
      "Experience: 9100 \n",
      "Rank: Master \n",
      "Achievements: ['Defeated Chuck Norris']\n"
     ]
    }
   ],
   "source": [
    "# Train with Chuck Norris\n",
    "bruce_lee.training([\"Defeated Chuck Norris\", 9000, 1])\n",
    "print(\"Level: {} \\nExperience: {} \\nRank: {} \\nAchievements: {}\".format(bruce_lee.level, bruce_lee.experience,bruce_lee.rank, bruce_lee.achievements))"
   ]
  },
  {
   "cell_type": "code",
   "execution_count": 41,
   "metadata": {},
   "outputs": [
    {
     "data": {
      "text/plain": [
       "'An intense fight'"
      ]
     },
     "execution_count": 41,
     "metadata": {},
     "output_type": "execute_result"
    }
   ],
   "source": [
    "# Battle a level \n",
    "bruce_lee.battle(92)"
   ]
  },
  {
   "cell_type": "code",
   "execution_count": 42,
   "metadata": {},
   "outputs": [
    {
     "name": "stdout",
     "output_type": "stream",
     "text": [
      "Level: 91 \n",
      "Experience: 9120 \n",
      "Rank: Master \n",
      "Achievements: ['Defeated Chuck Norris']\n"
     ]
    }
   ],
   "source": [
    "# Stats after the battle\n",
    "print(\"Level: {} \\nExperience: {} \\nRank: {} \\nAchievements: {}\".format(bruce_lee.level, bruce_lee.experience,bruce_lee.rank, bruce_lee.achievements))"
   ]
  },
  {
   "cell_type": "code",
   "execution_count": 43,
   "metadata": {},
   "outputs": [
    {
     "name": "stdout",
     "output_type": "stream",
     "text": [
      "Level: 97 \n",
      "Experience: 9795 \n",
      "Rank: Master \n",
      "Achievements: ['Defeated Chuck Norris', 'Master floor wrestling', 'Unlock Numchucks']\n"
     ]
    }
   ],
   "source": [
    "# Train and unlock two new achievements in one session\n",
    "bruce_lee.training([[\"Master floor wrestling\", \"Unlock Numchucks\"], 675, 85])\n",
    "print(\"Level: {} \\nExperience: {} \\nRank: {} \\nAchievements: {}\".format(bruce_lee.level, bruce_lee.experience,bruce_lee.rank, bruce_lee.achievements))"
   ]
  }
 ],
 "metadata": {
  "kernelspec": {
   "display_name": "Python 3",
   "language": "python",
   "name": "python3"
  },
  "language_info": {
   "codemirror_mode": {
    "name": "ipython",
    "version": 3
   },
   "file_extension": ".py",
   "mimetype": "text/x-python",
   "name": "python",
   "nbconvert_exporter": "python",
   "pygments_lexer": "ipython3",
   "version": "3.7.3"
  }
 },
 "nbformat": 4,
 "nbformat_minor": 2
}
