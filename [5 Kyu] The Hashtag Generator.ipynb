{
 "cells": [
  {
   "cell_type": "markdown",
   "metadata": {},
   "source": [
    "# The Hashtag Generator"
   ]
  },
  {
   "cell_type": "markdown",
   "metadata": {},
   "source": [
    "__Latest Update:__ 15-10-19\n",
    "<br>\n",
    "__Author:__ Bhavesh Nathwani"
   ]
  },
  {
   "cell_type": "markdown",
   "metadata": {},
   "source": [
    "### The Challenge:\n",
    "https://www.codewars.com/kata/the-hashtag-generator/train/python\n",
    "<br>\n",
    "<br>\n",
    "**Description:**\n",
    "<br>\n",
    "The marketing team is spending way too much time typing in hashtags.\n",
    "<br>\n",
    "Let's help them with our own Hashtag Generator!\n",
    "<br>\n",
    "Here's the deal:\n",
    "<br>\n",
    "It must start with a hashtag (#).\n",
    "<br>\n",
    "All words must have their first letter capitalized.\n",
    "<br>\n",
    "If the final result is longer than 140 chars it must return false.\n",
    "<br>\n",
    "If the input or the result is an empty string it must return false.\n",
    "<br>\n",
    "<br>\n",
    "**Examples**\n",
    "<br>\n",
    "\" Hello there thanks for trying my Kata\"  =>  \"#HelloThereThanksForTryingMyKata\"\n",
    "<br>\n",
    "\"    Hello     World   \"                  =>  \"#HelloWorld\"\n",
    "<br>\n",
    "\"          \"                              =>  false\n",
    "\n"
   ]
  },
  {
   "cell_type": "code",
   "execution_count": 13,
   "metadata": {},
   "outputs": [],
   "source": [
    "def generate_hashtag(s):\n",
    "    return \"#\"+\"\".join(s.title().replace(\" \", \"\")) if 0<len(s)<=140 else False"
   ]
  },
  {
   "cell_type": "markdown",
   "metadata": {},
   "source": [
    "### Testing:"
   ]
  },
  {
   "cell_type": "code",
   "execution_count": 39,
   "metadata": {},
   "outputs": [
    {
     "name": "stdout",
     "output_type": "stream",
     "text": [
      "'' returns False\n",
      "'Do We have A Hashtag' returns #DoWeHaveAHashtag\n",
      "'Codewars' returns #Codewars\n",
      "'Codewars      ' returns #Codewars\n",
      "'Codewars Is Nice' returns #CodewarsIsNice\n",
      "'codewars is nice' returns #CodewarsIsNice\n",
      "'CodeWars is nice' returns #CodewarsIsNice\n",
      "'c i n' returns #CIN\n",
      "'codewars  is  nice' returns #CodewarsIsNice\n",
      "'Looooooooooooooooooooooooooooooooooooooooooooooooooooooooooooooooooooooooooooooooooooooooooooooooooooooooooooooooooooooooooooooooooooooooooooooooooooooooooong Cat' returns False\n"
     ]
    }
   ],
   "source": [
    "manual_test_list = [\n",
    "''\n",
    ",'Do We have A Hashtag'\n",
    ",'Codewars'\n",
    ",'Codewars      '\n",
    ",'Codewars Is Nice'\n",
    ",'codewars is nice'\n",
    ",'CodeWars is nice'\n",
    ",'c i n'\n",
    ",'codewars  is  nice'\n",
    ",'Looooooooooooooooooooooooooooooooooooooooooooooooooooooooooooooooooooooooooooooooooooooooooooooooooooooooooooooooooooooooooooooooooooooooooooooooooooooooooong Cat'\n",
    "]\n",
    "\n",
    "for i in range(len(manual_test_list)):\n",
    "    print(\"'{}' returns {}\".format(manual_test_list[i], generate_hashtag(manual_test_list[i])))"
   ]
  },
  {
   "cell_type": "markdown",
   "metadata": {},
   "source": [
    "### Testing with random strings:"
   ]
  },
  {
   "cell_type": "code",
   "execution_count": 31,
   "metadata": {},
   "outputs": [
    {
     "name": "stdout",
     "output_type": "stream",
     "text": [
      "tpzvfvkennizmjkkxjbz\n",
      "'tpzvfvkennizmjkkxjbz' returns #Tpzvfvkennizmjkkxjbz\n",
      "'hl efzpbtgagrbadhpts' returns #HlEfzpbtgagrbadhpts\n",
      "'bqbqfuvefsch ipqveou' returns #BqbqfuvefschIpqveou\n",
      "'lqyzpzkiuxpgiqzuvtqr' returns #Lqyzpzkiuxpgiqzuvtqr\n",
      "'cuxcbktlqmmpphgwzlhr' returns #Cuxcbktlqmmpphgwzlhr\n",
      "'d qikmhckdleelwjpynf' returns #DQikmhckdleelwjpynf\n",
      "'jwecvdqjufwtdrdgkbpq' returns #Jwecvdqjufwtdrdgkbpq\n",
      "'lmcmcjqidai wporym l' returns #LmcmcjqidaiWporymL\n",
      "'aainxlaemsuobzhgce g' returns #AainxlaemsuobzhgceG\n",
      "'qntusoxrcqok fbukfer' returns #QntusoxrcqokFbukfer\n",
      "'znqkhlsgodjirqdjyvjc' returns #Znqkhlsgodjirqdjyvjc\n",
      "'qvvrumlhxnaghglwqcvs' returns #Qvvrumlhxnaghglwqcvs\n",
      "'hp ogezwahmsjxaetqps' returns #HpOgezwahmsjxaetqps\n",
      "'vzpgnt qsurpofgcfals' returns #VzpgntQsurpofgcfals\n",
      "'smcztnoumwbsolfghj w' returns #SmcztnoumwbsolfghjW\n",
      "'xbsxfoxvcindlnhjjzsv' returns #Xbsxfoxvcindlnhjjzsv\n",
      "'eh vfubvllft wjxwuoy' returns #EhVfubvllftWjxwuoy\n",
      "'cwhljpucozkuyasdyaqo' returns #Cwhljpucozkuyasdyaqo\n",
      "'ct hyznaaceaehdciuvk' returns #CtHyznaaceaehdciuvk\n",
      "'wdgdqvqpazwranopmhut' returns #Wdgdqvqpazwranopmhut\n",
      "'gysuemxvzlfqzrdglxzq' returns #Gysuemxvzlfqzrdglxzq\n",
      "'pfcoiywvkzbizzozinet' returns #Pfcoiywvkzbizzozinet\n",
      "'xynnfnhpquhkkfhdtmpy' returns #Xynnfnhpquhkkfhdtmpy\n",
      "'wpfmfhvqdhpzxuaqdzxr' returns #Wpfmfhvqdhpzxuaqdzxr\n",
      "'dopqdsstlfv okmrbmvm' returns #DopqdsstlfvOkmrbmvm\n",
      "'byczrgjpukdksfndvtdt' returns #Byczrgjpukdksfndvtdt\n",
      "'hzn ehkutpozuriwegmh' returns #HznEhkutpozuriwegmh\n",
      "'zsdrzquvnuorwyeffoc ' returns #Zsdrzquvnuorwyeffoc\n",
      "'sfudbhlldkpbyfzhoynu' returns #Sfudbhlldkpbyfzhoynu\n",
      "'qnroxrygcsjvcyokjwph' returns #Qnroxrygcsjvcyokjwph\n",
      "' nhykzopeobsibndjbbl' returns #Nhykzopeobsibndjbbl\n",
      "'wflyfdlwbebesxjgl ee' returns #WflyfdlwbebesxjglEe\n",
      "'iavrpwpuiydpcpapcplm' returns #Iavrpwpuiydpcpapcplm\n",
      "'a hmpsweukq gk pcpsi' returns #AHmpsweukqGkPcpsi\n",
      "'dkubyaimkvwhfx f xqs' returns #DkubyaimkvwhfxFXqs\n",
      "'ehnsymqrulcmhlcnf sf' returns #EhnsymqrulcmhlcnfSf\n",
      "'ylpreihitpaldpdsossk' returns #Ylpreihitpaldpdsossk\n",
      "'vffoaabrlbaiohrwqvcf' returns #Vffoaabrlbaiohrwqvcf\n",
      "'eahrwhvcp etbh glmcc' returns #EahrwhvcpEtbhGlmcc\n",
      "'d gcnsl grgbj pwyuxu' returns #DGcnslGrgbjPwyuxu\n",
      "'sk rtswxzhnbakzumbmo' returns #SkRtswxzhnbakzumbmo\n",
      "'pdcogmcajrrtqjyz aeu' returns #PdcogmcajrrtqjyzAeu\n",
      "'aoomxoswgpgftz gmjpw' returns #AoomxoswgpgftzGmjpw\n",
      "'mhfpprjtgppgnipdbjy ' returns #Mhfpprjtgppgnipdbjy\n",
      "'jiijzeqslbvmaidpjihn' returns #Jiijzeqslbvmaidpjihn\n",
      "'ypjmdmzspddkacxmlvxb' returns #Ypjmdmzspddkacxmlvxb\n",
      "'rqlawgwhwgjxwlajxwak' returns #Rqlawgwhwgjxwlajxwak\n",
      "'uistvmubepoywq ectux' returns #UistvmubepoywqEctux\n",
      "'dyigihfpehanzglhrjf ' returns #Dyigihfpehanzglhrjf\n",
      "'eihm kcljktmaxweipak' returns #EihmKcljktmaxweipak\n",
      "'gbffyrkktccqdhvopfjw' returns #Gbffyrkktccqdhvopfjw\n",
      "'eyvwhpxujqdnw dhhuqg' returns #EyvwhpxujqdnwDhhuqg\n",
      "'apscokhxnvl qorvbyde' returns #ApscokhxnvlQorvbyde\n",
      "'houfcnthyqquzjjsuiwt' returns #Houfcnthyqquzjjsuiwt\n",
      "'odwldlwaqmqatuikawpu' returns #Odwldlwaqmqatuikawpu\n",
      "'qnutvbgafcfxkwxxng w' returns #QnutvbgafcfxkwxxngW\n",
      "'merbaswxpguyudkcqjme' returns #Merbaswxpguyudkcqjme\n",
      "'vvgetiuubizdrlzhvcsh' returns #Vvgetiuubizdrlzhvcsh\n",
      "'atplkdectxlvdzddhepr' returns #Atplkdectxlvdzddhepr\n",
      "'osqkkzpj afdzmuqhgsx' returns #OsqkkzpjAfdzmuqhgsx\n",
      "'zswxwwidgttxyyoymgyd' returns #Zswxwwidgttxyyoymgyd\n",
      "'xqyhcxb jkhnhdqkzhoi' returns #XqyhcxbJkhnhdqkzhoi\n",
      "'ef mgg miiejslfiuqmx' returns #EfMggMiiejslfiuqmx\n",
      "'ntntixqz clrqqib skd' returns #NtntixqzClrqqibSkd\n",
      "'opxaj lbiwmscxiesfoz' returns #OpxajLbiwmscxiesfoz\n",
      "'ckseeqsnmotznvsyqund' returns #Ckseeqsnmotznvsyqund\n",
      "'fzmclywdblvflinegryc' returns #Fzmclywdblvflinegryc\n",
      "'jnjbejenjbeybdvnezcv' returns #Jnjbejenjbeybdvnezcv\n",
      "'brjcrga dytlmcnqtiy ' returns #BrjcrgaDytlmcnqtiy\n",
      "'epzqsl fiapqvtflrinl' returns #EpzqslFiapqvtflrinl\n",
      "'rhvntpyxncnfhvugxtno' returns #Rhvntpyxncnfhvugxtno\n",
      "'fiwwoxamxrdv wwiipgj' returns #FiwwoxamxrdvWwiipgj\n",
      "'gwtlmuynak hihippzsd' returns #GwtlmuynakHihippzsd\n",
      "'xakgkjraxrtgfupzytjk' returns #Xakgkjraxrtgfupzytjk\n",
      "'oovotyamdbemfvqdnnrw' returns #Oovotyamdbemfvqdnnrw\n",
      "'fxwffuwxemwsgvtmricr' returns #Fxwffuwxemwsgvtmricr\n",
      "'muytdpaswtctizhmispo' returns #Muytdpaswtctizhmispo\n",
      "'oiegcnekbortmnhzaoep' returns #Oiegcnekbortmnhzaoep\n",
      "'vjtgvsisuadvcif plbq' returns #VjtgvsisuadvcifPlbq\n",
      "'mwmiycrkrbkgwpwnexcn' returns #Mwmiycrkrbkgwpwnexcn\n",
      "'msrrmzdroroufpzazhbz' returns #Msrrmzdroroufpzazhbz\n",
      "'gaylqcsxldiwiumrrctg' returns #Gaylqcsxldiwiumrrctg\n",
      "'xsswgxbprmztcjfcovvk' returns #Xsswgxbprmztcjfcovvk\n",
      "'drzbxfbkyogcjgtptvlk' returns #Drzbxfbkyogcjgtptvlk\n",
      "'qmdtvhgshlihbfluucyl' returns #Qmdtvhgshlihbfluucyl\n",
      "'xfsc wjfhujvohxuvkgw' returns #XfscWjfhujvohxuvkgw\n",
      "'fvdaalibuoiqhzkfabxr' returns #Fvdaalibuoiqhzkfabxr\n",
      "'scoyruikvoqefxtx xdw' returns #ScoyruikvoqefxtxXdw\n",
      "' lgsruvxwmfyejnizyrw' returns #Lgsruvxwmfyejnizyrw\n",
      "'zyimtvyonuluuanomhjx' returns #Zyimtvyonuluuanomhjx\n",
      "'agiycnymaywruyuhuauc' returns #Agiycnymaywruyuhuauc\n",
      "'myjpmslkqublpwmwkupj' returns #Myjpmslkqublpwmwkupj\n",
      "'honaznybxishdtnznrpu' returns #Honaznybxishdtnznrpu\n",
      "'pmhefgy ab issuodirz' returns #PmhefgyAbIssuodirz\n",
      "'eoaqw icyqkyrupbaupu' returns #EoaqwIcyqkyrupbaupu\n",
      "'yuywwljckbmwovgjmjfw' returns #Yuywwljckbmwovgjmjfw\n",
      "' kobgbrdtstvaiyxzarf' returns #Kobgbrdtstvaiyxzarf\n",
      "'hcnczwvwueojiykqielh' returns #Hcnczwvwueojiykqielh\n",
      "'tsqxhhqpqbvsxqmfjyfu' returns #Tsqxhhqpqbvsxqmfjyfu\n",
      "'yfmbad qzvalwqmsqigj' returns #YfmbadQzvalwqmsqigj\n"
     ]
    }
   ],
   "source": [
    "import string\n",
    "import random\n",
    "def randomString(N):\n",
    "    return ''.join(random.choice(string.ascii_lowercase + ' ') for i in range(N))\n",
    "\n",
    "test_list = []\n",
    "for i in range(100):\n",
    "    test_list.append(randomString(20))\n",
    "print(test_list[0])\n",
    "\n",
    "for i in range(len(test_list)):\n",
    "    print(\"'{}' returns {}\".format(test_list[i], generate_hashtag(test_list[i])))"
   ]
  }
 ],
 "metadata": {
  "kernelspec": {
   "display_name": "Python 3",
   "language": "python",
   "name": "python3"
  },
  "language_info": {
   "codemirror_mode": {
    "name": "ipython",
    "version": 3
   },
   "file_extension": ".py",
   "mimetype": "text/x-python",
   "name": "python",
   "nbconvert_exporter": "python",
   "pygments_lexer": "ipython3",
   "version": "3.7.3"
  }
 },
 "nbformat": 4,
 "nbformat_minor": 2
}
