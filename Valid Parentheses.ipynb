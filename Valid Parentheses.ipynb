{
 "cells": [
  {
   "cell_type": "markdown",
   "metadata": {},
   "source": [
    "# <font color=#C70039>Valid Perentheses</font> "
   ]
  },
  {
   "cell_type": "markdown",
   "metadata": {},
   "source": [
    "__Latest Update:__ 15-10-19\n",
    "<br>\n",
    "__Author:__ Bhavesh Nathwani\n"
   ]
  },
  {
   "cell_type": "markdown",
   "metadata": {},
   "source": [
    "### <font color=#C70039>The Challenge:</font> \n",
    "https://www.codewars.com/kata/valid-parentheses/train/python\n",
    "<br>\n",
    "<br>\n",
    "**Description:**\n",
    "<br>\n",
    "Write a function called that takes a string of parentheses, and determines if the order of the parentheses is valid. The function should return true if the string is valid, and false if it's invalid.\n",
    "<br>\n",
    "<br>\n",
    "**Examples**\n",
    "<br>\n",
    "\"()\"              =>  true\n",
    "\")(()))\"          =>  false\n",
    "\"(\"               =>  false\n",
    "\"(())((()())())\"  =>  true\n",
    "<br>\n",
    "<br>\n",
    "**Constraints**\n",
    "<br>\n",
    "0 <= input.length <= 100\n",
    "<br>\n",
    "Along with opening (() and closing ()) parenthesis, input may contain any valid ASCII characters. Furthermore, the input string may be empty and/or not contain any parentheses at all. Do not treat other forms of brackets as parentheses (e.g. [], {}, <>).\n"
   ]
  },
  {
   "cell_type": "code",
   "execution_count": 1,
   "metadata": {},
   "outputs": [],
   "source": [
    "def valid_parentheses(string):\n",
    "    parentheses = ['()', '{}', '[]']\n",
    "    \n",
    "    # Keep only parentheses in string\n",
    "    input_string = \"\".join(list(filter(lambda i: i in [\"(\",\")\",\"[\",\"]\",\"{\",\"}\"], string.replace(\" \",\"\"))))\n",
    "    result = False\n",
    "    \n",
    "    #Special case where string is empty\n",
    "    if string == \"\":\n",
    "        result = True\n",
    "        \n",
    "    #While input_string not empty, we'll keep trying to eliminate brackets from it\n",
    "    while any(character in input_string for character in parentheses):\n",
    "        for parent in parentheses:\n",
    "            input_string = input_string.replace(parent,\"\")\n",
    "            \n",
    "        #If there is nothing left, we have been successful in eliminating all valid parentheses\n",
    "        if len(input_string) != 0:\n",
    "            result =  False\n",
    "        else:\n",
    "            result = True\n",
    "            \n",
    "    return result"
   ]
  },
  {
   "cell_type": "markdown",
   "metadata": {},
   "source": [
    "### <font color=#C70039>Testing:</font> "
   ]
  },
  {
   "cell_type": "code",
   "execution_count": 6,
   "metadata": {},
   "outputs": [
    {
     "name": "stdout",
     "output_type": "stream",
     "text": [
      "'(' returns False\n",
      "')test' returns False\n",
      "' ' returns False\n",
      "'hi())(' returns False\n",
      "'hi(hi)()' returns True\n"
     ]
    }
   ],
   "source": [
    "print(\"'{}' returns {}\".format(\"(\",valid_parentheses(\"(\")))\n",
    "print(\"'{}' returns {}\".format(\")test\",valid_parentheses(\")test\")))\n",
    "print(\"'{}' returns {}\".format(\" \",valid_parentheses(\" \")))\n",
    "print(\"'{}' returns {}\".format(\"hi())(\",valid_parentheses(\"hi())(\")))\n",
    "print(\"'{}' returns {}\".format(\"hi(hi)()\",valid_parentheses(\"hi(hi)()\")))"
   ]
  }
 ],
 "metadata": {
  "kernelspec": {
   "display_name": "Python 3",
   "language": "python",
   "name": "python3"
  },
  "language_info": {
   "codemirror_mode": {
    "name": "ipython",
    "version": 3
   },
   "file_extension": ".py",
   "mimetype": "text/x-python",
   "name": "python",
   "nbconvert_exporter": "python",
   "pygments_lexer": "ipython3",
   "version": "3.7.3"
  }
 },
 "nbformat": 4,
 "nbformat_minor": 2
}
