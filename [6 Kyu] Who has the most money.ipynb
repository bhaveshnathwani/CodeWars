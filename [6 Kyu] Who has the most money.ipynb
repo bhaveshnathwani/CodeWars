{
 "cells": [
  {
   "cell_type": "markdown",
   "metadata": {},
   "source": [
    "# Who has the most money?"
   ]
  },
  {
   "cell_type": "markdown",
   "metadata": {},
   "source": [
    "__Latest Update:__ 26-11-19\n",
    "<br>\n",
    "__Author:__ Bhavesh Nathwani"
   ]
  },
  {
   "cell_type": "markdown",
   "metadata": {},
   "source": [
    "### The Challenge:\n",
    "https://www.codewars.com/kata/who-has-the-most-money/train/python\n",
    "<br>\n",
    "<br>\n",
    "You're going on a trip with some students and it's up to you to keep track of how much money each Student has. \n",
    "<br>\n",
    "A student is defined like this:\n",
    "<br>\n",
    "class Student:\n",
    "<br>\n",
    "def __init__(self, name, fives, tens, twenties):\n",
    "<br>\n",
    "&emsp;&emsp;self.name = name\n",
    "<br>\n",
    "&emsp;&emsp;self.fives = fives\n",
    "<br>\n",
    "&emsp;&emsp;self.tens = tens\n",
    "<br>\n",
    "&emsp;&emsp;self.twenties = twenties\n",
    "<br>\n",
    "<br>\n",
    "As you can tell, each Student has some fives, tens, and twenties. \n",
    "<br>\n",
    "Your job is to return the name of the student with the most money.\n",
    "<br>\n",
    "If every student has the same amount, then return \"all\".\n",
    "<br>\n",
    "<br>\n",
    "**Notes:**\n",
    "<br>\n",
    " - Each student will have a unique name\n",
    " - There will always be a clear winner: either one person has the most, or everyone has the same amount\n",
    " - If there is only one student, then that student has the most money\n",
    "<br>\n",
    "\n",
    "**Examples:**\n",
    "<br>\n",
    "phil = Student(\"Phil\", 2, 2, 1)\n",
    "<br>\n",
    "cam = Student(\"Cameron\", 2, 2, 0)\n",
    "<br>\n",
    "geoff = Student(\"Geoff\", 0, 3, 0)\n",
    "<br>\n",
    "most_money([cam, geoff, phil]) => \"Phil\"\n"
   ]
  },
  {
   "cell_type": "code",
   "execution_count": 5,
   "metadata": {},
   "outputs": [],
   "source": [
    "class Student:\n",
    "    def __init__(self, name, fives, tens, twenties):\n",
    "        self.name = name\n",
    "        self.fives = fives\n",
    "        self.tens = tens\n",
    "        self.twenties = twenties\n",
    "        \n",
    "phil = Student(\"Phil\", 2, 2, 1)\n",
    "cam = Student(\"Cameron\", 2, 2, 0)\n",
    "geoff = Student(\"Geoff\", 0, 3, 0)"
   ]
  },
  {
   "cell_type": "code",
   "execution_count": 24,
   "metadata": {},
   "outputs": [],
   "source": [
    "def most_money(students):\n",
    "\n",
    "    student_wealth = []\n",
    "\n",
    "    for student in students:\n",
    "        wealth = 0\n",
    "        wealth+= (student.fives*5) + (student.tens*10) + (student.twenties*20)\n",
    "        student_wealth.extend([[student.name, wealth]])\n",
    "\n",
    "    student_wealth.sort(key = lambda x: x[1])\n",
    "    \n",
    "    if student_wealth [0][1] == student_wealth[-1][1] and len(student_wealth)>1:\n",
    "        return \"all\"\n",
    "    else:\n",
    "        return student_wealth[-1][0]\n"
   ]
  },
  {
   "cell_type": "markdown",
   "metadata": {},
   "source": [
    "### Testing:"
   ]
  },
  {
   "cell_type": "code",
   "execution_count": 25,
   "metadata": {},
   "outputs": [
    {
     "data": {
      "text/plain": [
       "'Phil'"
      ]
     },
     "execution_count": 25,
     "metadata": {},
     "output_type": "execute_result"
    }
   ],
   "source": [
    "most_money([cam, geoff, phil])"
   ]
  },
  {
   "cell_type": "code",
   "execution_count": 26,
   "metadata": {},
   "outputs": [
    {
     "data": {
      "text/plain": [
       "'all'"
      ]
     },
     "execution_count": 26,
     "metadata": {},
     "output_type": "execute_result"
    }
   ],
   "source": [
    "most_money([cam, geoff])"
   ]
  },
  {
   "cell_type": "code",
   "execution_count": 27,
   "metadata": {},
   "outputs": [
    {
     "data": {
      "text/plain": [
       "'Geoff'"
      ]
     },
     "execution_count": 27,
     "metadata": {},
     "output_type": "execute_result"
    }
   ],
   "source": [
    "most_money([geoff])"
   ]
  }
 ],
 "metadata": {
  "kernelspec": {
   "display_name": "Python 3",
   "language": "python",
   "name": "python3"
  },
  "language_info": {
   "codemirror_mode": {
    "name": "ipython",
    "version": 3
   },
   "file_extension": ".py",
   "mimetype": "text/x-python",
   "name": "python",
   "nbconvert_exporter": "python",
   "pygments_lexer": "ipython3",
   "version": "3.7.3"
  }
 },
 "nbformat": 4,
 "nbformat_minor": 2
}
