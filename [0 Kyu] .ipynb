{
 "cells": [
  {
   "cell_type": "markdown",
   "metadata": {},
   "source": [
    "# "
   ]
  },
  {
   "cell_type": "markdown",
   "metadata": {},
   "source": [
    "__Latest Update:__ 16-10-19\n",
    "<br>\n",
    "__Author:__ Bhavesh Nathwani"
   ]
  },
  {
   "cell_type": "markdown",
   "metadata": {},
   "source": [
    "### The Challenge:\n",
    "https://www.codewars.com/kata/sum-of-intervals/train/python\n",
    "<br>\n",
    "<br>\n",
    "**Description:**\n",
    "<br>\n",
    "Write a function called sumIntervals/sum_intervals() that accepts an array of intervals, and returns the sum of all the interval lengths. Overlapping intervals should only be counted once.\n",
    "<br>\n",
    "<br>\n",
    "**Intervals**\n",
    "<br>\n",
    "Intervals are represented by a pair of integers in the form of an array. The first value of the interval will always be less than the second value. Interval example: [1, 5] is an interval from 1 to 5. The length of this interval is 4.\n",
    "<br>\n",
    "<br>\n",
    "**Overlapping Intervals**\n",
    "<br>\n",
    "List containing overlapping intervals:\n",
    "<br>\n",
    "[\n",
    "   [1,4],\n",
    "   [7, 10],\n",
    "   [3, 5]\n",
    "]\n",
    "<br>\n",
    "The sum of the lengths of these intervals is 7. Since [1, 4] and [3, 5] overlap, we can treat the interval as [1, 5], which has a length of 4.\n",
    "<br>\n",
    "<br>\n",
    "**Examples:**\n",
    "<br>\n",
    "sumIntervals( [\n",
    "   [1,2],\n",
    "   [6, 10],\n",
    "   [11, 15]\n",
    "] ); // => 9\n",
    "<br>\n",
    "sumIntervals( [\n",
    "   [1,4],\n",
    "   [7, 10],\n",
    "   [3, 5]\n",
    "] ); // => 7\n",
    "<br>\n",
    "sumIntervals( [\n",
    "   [1,5],\n",
    "   [10, 20],\n",
    "   [1, 6],\n",
    "   [16, 19],\n",
    "   [5, 11]\n",
    "] ); // => 19"
   ]
  },
  {
   "cell_type": "code",
   "execution_count": null,
   "metadata": {},
   "outputs": [],
   "source": []
  },
  {
   "cell_type": "code",
   "execution_count": null,
   "metadata": {},
   "outputs": [],
   "source": []
  },
  {
   "cell_type": "markdown",
   "metadata": {},
   "source": [
    "### Testing with random strings:"
   ]
  },
  {
   "cell_type": "code",
   "execution_count": 1,
   "metadata": {},
   "outputs": [
    {
     "ename": "NameError",
     "evalue": "name 'to_camel_case' is not defined",
     "output_type": "error",
     "traceback": [
      "\u001b[1;31m---------------------------------------------------------------------------\u001b[0m",
      "\u001b[1;31mNameError\u001b[0m                                 Traceback (most recent call last)",
      "\u001b[1;32m<ipython-input-1-408887f15fce>\u001b[0m in \u001b[0;36m<module>\u001b[1;34m\u001b[0m\n\u001b[0;32m     11\u001b[0m \u001b[1;33m\u001b[0m\u001b[0m\n\u001b[0;32m     12\u001b[0m \u001b[1;32mfor\u001b[0m \u001b[0mi\u001b[0m \u001b[1;32min\u001b[0m \u001b[0msentences\u001b[0m\u001b[1;33m:\u001b[0m\u001b[1;33m\u001b[0m\u001b[1;33m\u001b[0m\u001b[0m\n\u001b[1;32m---> 13\u001b[1;33m     \u001b[0mprint\u001b[0m\u001b[1;33m(\u001b[0m\u001b[1;34m\"{} returns: {}\"\u001b[0m\u001b[1;33m.\u001b[0m\u001b[0mformat\u001b[0m\u001b[1;33m(\u001b[0m\u001b[0mi\u001b[0m\u001b[1;33m,\u001b[0m \u001b[0mto_camel_case\u001b[0m\u001b[1;33m(\u001b[0m\u001b[0mi\u001b[0m\u001b[1;33m)\u001b[0m\u001b[1;33m)\u001b[0m\u001b[1;33m)\u001b[0m\u001b[1;33m\u001b[0m\u001b[1;33m\u001b[0m\u001b[0m\n\u001b[0m",
      "\u001b[1;31mNameError\u001b[0m: name 'to_camel_case' is not defined"
     ]
    }
   ],
   "source": [
    "import random\n",
    "nouns = (\"puppy\", \"car\", \"rabbit\", \"girl\", \"monkey\")\n",
    "verbs = (\"runs\", \"hits\", \"jumps\", \"drives\", \"barfs\") \n",
    "adv = (\"crazily\", \"dutifully\", \"foolishly\", \"merrily\", \"occasionally\")\n",
    "adj = (\"adorable\", \"clueless\", \"dirty\", \"odd\", \"stupid\")\n",
    "delimiter = (\"-\", \",\", \"_\", \"++\", \"@@\")\n",
    "sentences = []\n",
    "for i in range(500):\n",
    "    num = random.randrange(0,5)\n",
    "    sentences.append(nouns[num] + delimiter[num] + verbs[num] + delimiter[num] + adv[num] + delimiter[num] + adj[num])\n",
    "\n",
    "for i in sentences:\n",
    "    #print(\"{} returns: {}\".format(i, to_camel_case(i)))"
   ]
  },
  {
   "cell_type": "code",
   "execution_count": null,
   "metadata": {},
   "outputs": [],
   "source": []
  }
 ],
 "metadata": {
  "kernelspec": {
   "display_name": "Python 3",
   "language": "python",
   "name": "python3"
  },
  "language_info": {
   "codemirror_mode": {
    "name": "ipython",
    "version": 3
   },
   "file_extension": ".py",
   "mimetype": "text/x-python",
   "name": "python",
   "nbconvert_exporter": "python",
   "pygments_lexer": "ipython3",
   "version": "3.7.3"
  }
 },
 "nbformat": 4,
 "nbformat_minor": 2
}
