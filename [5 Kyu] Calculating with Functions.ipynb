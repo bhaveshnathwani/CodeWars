{
 "cells": [
  {
   "cell_type": "markdown",
   "metadata": {},
   "source": [
    "# Calculating with Functions"
   ]
  },
  {
   "cell_type": "markdown",
   "metadata": {},
   "source": [
    "__Latest Update:__ 25-11-19\n",
    "<br>\n",
    "__Author:__ Bhavesh Nathwani"
   ]
  },
  {
   "cell_type": "markdown",
   "metadata": {},
   "source": [
    "### The Challenge:\n",
    "<br>\n",
    "https://www.codewars.com/kata/calculating-with-functions/train/python\n",
    "<br>\n",
    "\n",
    "**Description:**\n",
    "<br>\n",
    "This time we want to write calculations using functions and get the results. Let's have a look at some examples:\n",
    "<br>\n",
    "<br>\n",
    "**Examples**\n",
    "<br>\n",
    "seven(times(five())) # must return 35\n",
    "<br>\n",
    "four(plus(nine())) # must return 13\n",
    "<br>\n",
    "eight(minus(three())) # must return 5\n",
    "<br>\n",
    "six(divided_by(two())) # must return 3\n",
    "<br>\n",
    "<br>\n",
    "**Requirements**\n",
    "-> There must be a function for each number from 0 (\"zero\") to 9 (\"nine\")\n",
    "-> There must be a function for each of the following mathematical operations: plus, minus, times, dividedBy (divided_by in Ruby and Python)\n",
    "-> Each calculation consist of exactly one operation and two numbers\n",
    "-> The most outer function represents the left operand, the most inner function represents the right operand\n",
    "<br>\n",
    "<br>\n",
    "**Note:** Divison should be integer division. For example, this should return 2, not 2.666666...:\n",
    "<br>\n",
    "eight(divided_by(three()))"
   ]
  },
  {
   "cell_type": "code",
   "execution_count": 21,
   "metadata": {},
   "outputs": [],
   "source": [
    "def plus(z): return lambda x: x+z\n",
    "def minus(z): return lambda x: x-z\n",
    "def times(z): return lambda  x: x*z\n",
    "def divided_by(z): return lambda  x: int(x/z)\n",
    "\n",
    "def zero(function=None): return function(0) if function else 0\n",
    "def one(function=None): return function(1) if function else 1\n",
    "def two(function=None): return function(2) if function else 2\n",
    "def three(function=None): return function(3) if function else 3\n",
    "def four(function=None): return function(4) if function else 4\n",
    "def five(function=None): return function(5) if function else 5\n",
    "def six(function=None): return function(6) if function else 6\n",
    "def seven(function=None): return function(7) if function else 7\n",
    "def eight(function=None): return function(8) if function else 8\n",
    "def nine(function=None): return function(9) if function else 9"
   ]
  },
  {
   "cell_type": "markdown",
   "metadata": {},
   "source": [
    "### Testing:"
   ]
  },
  {
   "cell_type": "code",
   "execution_count": 22,
   "metadata": {},
   "outputs": [
    {
     "name": "stdout",
     "output_type": "stream",
     "text": [
      "35\n",
      "13\n",
      "5\n",
      "3\n"
     ]
    }
   ],
   "source": [
    "print(seven(times(five())))    # must return 35\n",
    "print(four(plus(nine())))      # must return 13\n",
    "print(eight(minus(three())))   # must return 5\n",
    "print(six(divided_by(two())))  # must return 3"
   ]
  }
 ],
 "metadata": {
  "kernelspec": {
   "display_name": "Python 3",
   "language": "python",
   "name": "python3"
  },
  "language_info": {
   "codemirror_mode": {
    "name": "ipython",
    "version": 3
   },
   "file_extension": ".py",
   "mimetype": "text/x-python",
   "name": "python",
   "nbconvert_exporter": "python",
   "pygments_lexer": "ipython3",
   "version": "3.7.3"
  }
 },
 "nbformat": 4,
 "nbformat_minor": 2
}
