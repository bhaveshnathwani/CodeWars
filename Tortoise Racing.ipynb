{
 "cells": [
  {
   "cell_type": "markdown",
   "metadata": {},
   "source": [
    "# <font color=#C70039>Tortoise Racing</font> "
   ]
  },
  {
   "cell_type": "markdown",
   "metadata": {},
   "source": [
    "__Latest Update:__ 15-10-19\n",
    "<br>\n",
    "__Author:__ Bhavesh Nathwani"
   ]
  },
  {
   "cell_type": "markdown",
   "metadata": {},
   "source": [
    "### <font color=#C70039>The Challenge:</font> \n",
    "https://www.codewars.com/kata/tortoise-racing/train/python/\n",
    "<br>\n",
    "<br>\n",
    "**Description:**\n",
    "Two tortoises named A and B must run a race. A starts with an average speed of 720 feet per hour. Young B knows she runs faster than A, and furthermore has not finished her cabbage.\n",
    "<br>\n",
    "When she starts, at last, she can see that A has a 70 feet lead but B's speed is 850 feet per hour. How long will it take B to catch A?\n",
    "<br>\n",
    "More generally: given two speeds v1 (A's speed, integer > 0) and v2 (B's speed, integer > 0) and a lead g (integer > 0) how long will it take B to catch A?\n",
    "<br>\n",
    "The result will be an array [hour, min, sec] which is the time needed in hours, minutes and seconds (round down to the nearest second) or a string in some languages.\n",
    "<br>\n",
    "If v1 >= v2 then return nil, nothing, null, None or {-1, -1, -1} for C++, C, Go, Nim, [] for Kotlin or \"-1 -1 -1\".\n",
    "<br>\n",
    "<br>\n",
    "**Examples:**\n",
    "<br>\n",
    "race(720, 850, 70) => [0, 32, 18] or \"0 32 18\"\n",
    "<br>\n",
    "<br>\n",
    "**Note:**\n",
    "<br>\n",
    "See other examples in \"Your test cases\".\n",
    "<br>\n",
    "In Fortran - as in any other language - the returned string is not permitted to contain any redundant trailing whitespace: you can use dynamically allocated character strings.\n",
    "<br>\n",
    "<br>\n",
    "**Hints** for people who don't know how to convert to hours, minutes, seconds:\n",
    "<br>\n",
    "Tortoises don't care about fractions of seconds\n",
    "<br>\n",
    "Think of calculation by hand using only integers (in your code use or simulate integer division)\n",
    "<br>\n",
    "or Google: \"convert decimal time to hours minutes seconds\""
   ]
  },
  {
   "cell_type": "code",
   "execution_count": 1,
   "metadata": {},
   "outputs": [],
   "source": [
    "def race(v1, v2, g):\n",
    "    total_s = ((3600*g)/(v2-v1))\n",
    "    min, sec = divmod(total_s, 60)\n",
    "    hours, min = divmod(min, 60)\n",
    "    if hours < 0 or min < 0 or sec < 0:\n",
    "        return None\n",
    "    else:\n",
    "        return [int(hours), int(min), int(sec)]"
   ]
  },
  {
   "cell_type": "code",
   "execution_count": null,
   "metadata": {},
   "outputs": [],
   "source": [
    "### <font color=#C70039>Testing with manual integars:</font> "
   ]
  },
  {
   "cell_type": "code",
   "execution_count": 4,
   "metadata": {},
   "outputs": [
    {
     "name": "stdout",
     "output_type": "stream",
     "text": [
      "'race(720, 850, 70)' returns [0, 32, 18]\n",
      "'race(80, 91, 37)' returns [3, 21, 49]\n",
      "'race(80, 100, 40)' returns [2, 0, 0]\n"
     ]
    }
   ],
   "source": [
    "print(\"'{}' returns {}\".format(\"race(720, 850, 70)\", race(720, 850, 70)))\n",
    "print(\"'{}' returns {}\".format(\"race(80, 91, 37)\", race(80, 91, 37)))\n",
    "print(\"'{}' returns {}\".format(\"race(80, 100, 40)\", race(80, 100, 40)))"
   ]
  }
 ],
 "metadata": {
  "kernelspec": {
   "display_name": "Python 3",
   "language": "python",
   "name": "python3"
  },
  "language_info": {
   "codemirror_mode": {
    "name": "ipython",
    "version": 3
   },
   "file_extension": ".py",
   "mimetype": "text/x-python",
   "name": "python",
   "nbconvert_exporter": "python",
   "pygments_lexer": "ipython3",
   "version": "3.7.3"
  }
 },
 "nbformat": 4,
 "nbformat_minor": 2
}
