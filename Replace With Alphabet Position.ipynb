{
 "cells": [
  {
   "cell_type": "markdown",
   "metadata": {},
   "source": [
    "# Replace With Alphabet Position"
   ]
  },
  {
   "cell_type": "markdown",
   "metadata": {},
   "source": [
    "__Latest Update:__ 22-10-19\n",
    "<br>\n",
    "__Author:__ Bhavesh Nathwani"
   ]
  },
  {
   "cell_type": "markdown",
   "metadata": {},
   "source": [
    "### The Challenge:\n",
    "https://www.codewars.com/kata/replace-with-alphabet-position/train/python\n",
    "<br>\n",
    "<br>\n",
    "**Description:**\n",
    "In this kata you are required to, given a string, replace every letter with its position in the alphabet.\n",
    "<br>\n",
    "If anything in the text isn't a letter, ignore it and don't return it.\n",
    "<br>\n",
    "\"a\" = 1, \"b\" = 2, etc.\n",
    "<br>\n",
    "<br>\n",
    "**Examples:**\n",
    "<br>\n",
    "alphabet_position(\"The sunset sets at twelve o' clock.\")\n",
    "<br>\n",
    "Should return \"20 8 5 19 21 14 19 5 20 19 5 20 19 1 20 20 23 5 12 22 5 15 3 12 15 3 11\" (as a string)"
   ]
  },
  {
   "cell_type": "code",
   "execution_count": 27,
   "metadata": {},
   "outputs": [],
   "source": [
    "import re\n",
    "import string\n",
    "\n",
    "def alphabet_position(text):\n",
    "    indexes = []\n",
    "    alphabet_list = [i for i in string.ascii_lowercase]\n",
    "    for i in [i for i in \"\".join(re.split('[^a-zA-Z]', text.lower()))]:\n",
    "        indexes.append(str(alphabet_list.index(i)+1))\n",
    "    return \" \".join(indexes)"
   ]
  },
  {
   "cell_type": "markdown",
   "metadata": {},
   "source": [
    "### Testing with random integars:"
   ]
  },
  {
   "cell_type": "code",
   "execution_count": 28,
   "metadata": {},
   "outputs": [
    {
     "name": "stdout",
     "output_type": "stream",
     "text": [
      "'xyrxrjaqtlksrmzbbunrtpibhmjbruyr' returns 24 25 18 24 18 10 1 17 20 12 11 19 18 13 26 2 2 21 14 18 20 16 9 2 8 13 10 2 18 21 25 18\n",
      "'oworoxhmzifhoezklyioqrrueqxxjjkj' returns 15 23 15 18 15 24 8 13 26 9 6 8 15 5 26 11 12 25 9 15 17 18 18 21 5 17 24 24 10 10 11 10\n",
      "'tbibvdaphumlfxtefylxegtlhoddbdug' returns 20 2 9 2 22 4 1 16 8 21 13 12 6 24 20 5 6 25 12 24 5 7 20 12 8 15 4 4 2 4 21 7\n",
      "'knpfisgrcjotypdcgkmrduepmqaeujyc' returns 11 14 16 6 9 19 7 18 3 10 15 20 25 16 4 3 7 11 13 18 4 21 5 16 13 17 1 5 21 10 25 3\n",
      "'bburvujnjjctikwsynxjdmlwvwzzwmct' returns 2 2 21 18 22 21 10 14 10 10 3 20 9 11 23 19 25 14 24 10 4 13 12 23 22 23 26 26 23 13 3 20\n",
      "'auvnoaddfvcrbiypjlsdvagodkfnzdhp' returns 1 21 22 14 15 1 4 4 6 22 3 18 2 9 25 16 10 12 19 4 22 1 7 15 4 11 6 14 26 4 8 16\n",
      "'sovlphbrpnwvrbgpsgvdnnitkmceezfp' returns 19 15 22 12 16 8 2 18 16 14 23 22 18 2 7 16 19 7 22 4 14 14 9 20 11 13 3 5 5 26 6 16\n",
      "'hqoqovpursoriexfqrrikjxiczkofdug' returns 8 17 15 17 15 22 16 21 18 19 15 18 9 5 24 6 17 18 18 9 11 10 24 9 3 26 11 15 6 4 21 7\n",
      "'kkpnhqtjvgzzcyzmzhqtqcbnluotpgcw' returns 11 11 16 14 8 17 20 10 22 7 26 26 3 25 26 13 26 8 17 20 17 3 2 14 12 21 15 20 16 7 3 23\n",
      "'mvvrrqzxvxppnelmljpyokjngswqagke' returns 13 22 22 18 18 17 26 24 22 24 16 16 14 5 12 13 12 10 16 25 15 11 10 14 7 19 23 17 1 7 11 5\n",
      "'kkgwmzrshhvwbkemxaemzfstninhszxn' returns 11 11 7 23 13 26 18 19 8 8 22 23 2 11 5 13 24 1 5 13 26 6 19 20 14 9 14 8 19 26 24 14\n",
      "'bcownxfykljapxcjdqmzbbohvrvskjhp' returns 2 3 15 23 14 24 6 25 11 12 10 1 16 24 3 10 4 17 13 26 2 2 15 8 22 18 22 19 11 10 8 16\n",
      "'knzvgbuatzbndrptnmxltcfywweoktih' returns 11 14 26 22 7 2 21 1 20 26 2 14 4 18 16 20 14 13 24 12 20 3 6 25 23 23 5 15 11 20 9 8\n",
      "'jkruajswedvbrquuswskohrbqbbvsnal' returns 10 11 18 21 1 10 19 23 5 4 22 2 18 17 21 21 19 23 19 11 15 8 18 2 17 2 2 22 19 14 1 12\n",
      "'ktfmtisvditarvcwfftjbctwivxtzduq' returns 11 20 6 13 20 9 19 22 4 9 20 1 18 22 3 23 6 6 20 10 2 3 20 23 9 22 24 20 26 4 21 17\n",
      "'mttuvwhuewxsaccynckchwqdnvxwdgkr' returns 13 20 20 21 22 23 8 21 5 23 24 19 1 3 3 25 14 3 11 3 8 23 17 4 14 22 24 23 4 7 11 18\n",
      "'afsimiabacdtnpqyrwuxwaxallgjroob' returns 1 6 19 9 13 9 1 2 1 3 4 20 14 16 17 25 18 23 21 24 23 1 24 1 12 12 7 10 18 15 15 2\n",
      "'xdwdlmnrhaaotmphggsjzlmdgdfwyqdw' returns 24 4 23 4 12 13 14 18 8 1 1 15 20 13 16 8 7 7 19 10 26 12 13 4 7 4 6 23 25 17 4 23\n",
      "'aswksjagajpscqlwbrmgyayuurmtkczs' returns 1 19 23 11 19 10 1 7 1 10 16 19 3 17 12 23 2 18 13 7 25 1 25 21 21 18 13 20 11 3 26 19\n",
      "'oqrhpqezycfxkrkvicaxgmugvvrgqykt' returns 15 17 18 8 16 17 5 26 25 3 6 24 11 18 11 22 9 3 1 24 7 13 21 7 22 22 18 7 17 25 11 20\n",
      "'xsezpndngkhqakizkauedwcuiqpnrjae' returns 24 19 5 26 16 14 4 14 7 11 8 17 1 11 9 26 11 1 21 5 4 23 3 21 9 17 16 14 18 10 1 5\n",
      "'nwyevysosrxirsiifyttsaudcjmyrees' returns 14 23 25 5 22 25 19 15 19 18 24 9 18 19 9 9 6 25 20 20 19 1 21 4 3 10 13 25 18 5 5 19\n",
      "'txiepknrxgwukzzbacdcttwwzicxjknk' returns 20 24 9 5 16 11 14 18 24 7 23 21 11 26 26 2 1 3 4 3 20 20 23 23 26 9 3 24 10 11 14 11\n",
      "'lflsjrabhkvisjtcjlghjoppfypwkiye' returns 12 6 12 19 10 18 1 2 8 11 22 9 19 10 20 3 10 12 7 8 10 15 16 16 6 25 16 23 11 9 25 5\n",
      "'wxyltmzybnjxkzdldhbellrpaeltjyul' returns 23 24 25 12 20 13 26 25 2 14 10 24 11 26 4 12 4 8 2 5 12 12 18 16 1 5 12 20 10 25 21 12\n",
      "'wlyayxepurbvttorvpmnvyfxzyavgyde' returns 23 12 25 1 25 24 5 16 21 18 2 22 20 20 15 18 22 16 13 14 22 25 6 24 26 25 1 22 7 25 4 5\n",
      "'hugakasldglxplyuxgsaspmxwdmllfkh' returns 8 21 7 1 11 1 19 12 4 7 12 24 16 12 25 21 24 7 19 1 19 16 13 24 23 4 13 12 12 6 11 8\n",
      "'apzbojndcbyornjnwxsjfkalcebbmqca' returns 1 16 26 2 15 10 14 4 3 2 25 15 18 14 10 14 23 24 19 10 6 11 1 12 3 5 2 2 13 17 3 1\n",
      "'waurazjytnsympbtnbrtriorpsmzlaaz' returns 23 1 21 18 1 26 10 25 20 14 19 25 13 16 2 20 14 2 18 20 18 9 15 18 16 19 13 26 12 1 1 26\n",
      "'ftkhjjtaletkjterfqdgqocahopojkpj' returns 6 20 11 8 10 10 20 1 12 5 20 11 10 20 5 18 6 17 4 7 17 15 3 1 8 15 16 15 10 11 16 10\n",
      "'yfoqalzkcsryefcrjqottxvkbroxwwbk' returns 25 6 15 17 1 12 26 11 3 19 18 25 5 6 3 18 10 17 15 20 20 24 22 11 2 18 15 24 23 23 2 11\n",
      "'xikhgfwdzzxfhvdnsmardauviykxrevr' returns 24 9 11 8 7 6 23 4 26 26 24 6 8 22 4 14 19 13 1 18 4 1 21 22 9 25 11 24 18 5 22 18\n",
      "'wxhytbcdspbvtmstnhfbxtpnbeboqdtp' returns 23 24 8 25 20 2 3 4 19 16 2 22 20 13 19 20 14 8 6 2 24 20 16 14 2 5 2 15 17 4 20 16\n",
      "'spbobwtstaairiesurclpuztdkfobefw' returns 19 16 2 15 2 23 20 19 20 1 1 9 18 9 5 19 21 18 3 12 16 21 26 20 4 11 6 15 2 5 6 23\n",
      "'bgulwyuwewsqncqywqnjdvtezhirtpfj' returns 2 7 21 12 23 25 21 23 5 23 19 17 14 3 17 25 23 17 14 10 4 22 20 5 26 8 9 18 20 16 6 10\n",
      "'cgomctdaivcwuklatranckgzjbpnoziy' returns 3 7 15 13 3 20 4 1 9 22 3 23 21 11 12 1 20 18 1 14 3 11 7 26 10 2 16 14 15 26 9 25\n",
      "'qjgmgjvkrtngmxypsayztyjddkfbwzjv' returns 17 10 7 13 7 10 22 11 18 20 14 7 13 24 25 16 19 1 25 26 20 25 10 4 4 11 6 2 23 26 10 22\n",
      "'efafqdhzfaragbvixwrodbctwczjdxij' returns 5 6 1 6 17 4 8 26 6 1 18 1 7 2 22 9 24 23 18 15 4 2 3 20 23 3 26 10 4 24 9 10\n",
      "'qffkljjwmcmmynueecrcbesiqqmtutyh' returns 17 6 6 11 12 10 10 23 13 3 13 13 25 14 21 5 5 3 18 3 2 5 19 9 17 17 13 20 21 20 25 8\n",
      "'nagjnrbcpdgphgcofuoaclvkizuriqyi' returns 14 1 7 10 14 18 2 3 16 4 7 16 8 7 3 15 6 21 15 1 3 12 22 11 9 26 21 18 9 17 25 9\n",
      "'oaatrfgabhyepsiyffzezkbiiasngmcr' returns 15 1 1 20 18 6 7 1 2 8 25 5 16 19 9 25 6 6 26 5 26 11 2 9 9 1 19 14 7 13 3 18\n",
      "'mhnftqcyyouvqelcwedyftghmsanalqx' returns 13 8 14 6 20 17 3 25 25 15 21 22 17 5 12 3 23 5 4 25 6 20 7 8 13 19 1 14 1 12 17 24\n",
      "'lkmkyvawrfivdmeqdxmcixhzcpdzgfvn' returns 12 11 13 11 25 22 1 23 18 6 9 22 4 13 5 17 4 24 13 3 9 24 8 26 3 16 4 26 7 6 22 14\n",
      "'reznzlhanjdpcrmyswgckcsflnmoxapa' returns 18 5 26 14 26 12 8 1 14 10 4 16 3 18 13 25 19 23 7 3 11 3 19 6 12 14 13 15 24 1 16 1\n",
      "'iwcgxwttslhjcwfbxmpvopseyaarzhvy' returns 9 23 3 7 24 23 20 20 19 12 8 10 3 23 6 2 24 13 16 22 15 16 19 5 25 1 1 18 26 8 22 25\n",
      "'giermwhrhrfesacvqvgyxcjqsphxhrsy' returns 7 9 5 18 13 23 8 18 8 18 6 5 19 1 3 22 17 22 7 25 24 3 10 17 19 16 8 24 8 18 19 25\n",
      "'vddclmbehtvpquvdzwxmndhdmerexvdz' returns 22 4 4 3 12 13 2 5 8 20 22 16 17 21 22 4 26 23 24 13 14 4 8 4 13 5 18 5 24 22 4 26\n",
      "'upmtybgkbdaogtixotsdutddnliynztk' returns 21 16 13 20 25 2 7 11 2 4 1 15 7 20 9 24 15 20 19 4 21 20 4 4 14 12 9 25 14 26 20 11\n",
      "'vosptjdilempcebzbpzexdfkfgpreibs' returns 22 15 19 16 20 10 4 9 12 5 13 16 3 5 2 26 2 16 26 5 24 4 6 11 6 7 16 18 5 9 2 19\n",
      "'jfjdkqrqguljzqbmsejtvsdcsnntdgly' returns 10 6 10 4 11 17 18 17 7 21 12 10 26 17 2 13 19 5 10 20 22 19 4 3 19 14 14 20 4 7 12 25\n",
      "'brmoswjxsglxmngnhxkrpsgcjzcclbnt' returns 2 18 13 15 19 23 10 24 19 7 12 24 13 14 7 14 8 24 11 18 16 19 7 3 10 26 3 3 12 2 14 20\n",
      "'pexcbkvmkgtgzqirbzjzltpaxwxthpls' returns 16 5 24 3 2 11 22 13 11 7 20 7 26 17 9 18 2 26 10 26 12 20 16 1 24 23 24 20 8 16 12 19\n",
      "'cnsogihyrvxeuuvuwtrzdqguceqzbnzi' returns 3 14 19 15 7 9 8 25 18 22 24 5 21 21 22 21 23 20 18 26 4 17 7 21 3 5 17 26 2 14 26 9\n",
      "'fytlevwjysgqhzhozmfeyuhmkbrniwra' returns 6 25 20 12 5 22 23 10 25 19 7 17 8 26 8 15 26 13 6 5 25 21 8 13 11 2 18 14 9 23 18 1\n",
      "'ruehtxzmcwjsgefzzhzwlqmfodtltosx' returns 18 21 5 8 20 24 26 13 3 23 10 19 7 5 6 26 26 8 26 23 12 17 13 6 15 4 20 12 20 15 19 24\n",
      "'ijyjothfbippxxmbaplwtlkzwtdsklmt' returns 9 10 25 10 15 20 8 6 2 9 16 16 24 24 13 2 1 16 12 23 20 12 11 26 23 20 4 19 11 12 13 20\n",
      "'shrxeividfpgzbpbercgchrelgwvldmt' returns 19 8 18 24 5 9 22 9 4 6 16 7 26 2 16 2 5 18 3 7 3 8 18 5 12 7 23 22 12 4 13 20\n",
      "'ilcfpmvnbyypqffzlgzqdylebhlydwxp' returns 9 12 3 6 16 13 22 14 2 25 25 16 17 6 6 26 12 7 26 17 4 25 12 5 2 8 12 25 4 23 24 16\n",
      "'vapwdoauziyptsjeuviaiyyurnyroorb' returns 22 1 16 23 4 15 1 21 26 9 25 16 20 19 10 5 21 22 9 1 9 25 25 21 18 14 25 18 15 15 18 2\n",
      "'gqwofkywrqtqsteeedixlmsdvcdzgiky' returns 7 17 23 15 6 11 25 23 18 17 20 17 19 20 5 5 5 4 9 24 12 13 19 4 22 3 4 26 7 9 11 25\n",
      "'muwilgpbtmyunbduxnsxrknlolkjfxrf' returns 13 21 23 9 12 7 16 2 20 13 25 21 14 2 4 21 24 14 19 24 18 11 14 12 15 12 11 10 6 24 18 6\n",
      "'aggdabbkiuuowsxqwztaxrhyveufrzbg' returns 1 7 7 4 1 2 2 11 9 21 21 15 23 19 24 17 23 26 20 1 24 18 8 25 22 5 21 6 18 26 2 7\n",
      "'afnrlqmcwbnooffwmbbhhtmhwsrhmyfg' returns 1 6 14 18 12 17 13 3 23 2 14 15 15 6 6 23 13 2 2 8 8 20 13 8 23 19 18 8 13 25 6 7\n",
      "'rjkfzsacaadnmfkkmaxyjzxzbirzrntj' returns 18 10 11 6 26 19 1 3 1 1 4 14 13 6 11 11 13 1 24 25 10 26 24 26 2 9 18 26 18 14 20 10\n",
      "'scjvijryajooycerkjleiwhkvpeicbgp' returns 19 3 10 22 9 10 18 25 1 10 15 15 25 3 5 18 11 10 12 5 9 23 8 11 22 16 5 9 3 2 7 16\n",
      "'pjbpceomwrxlccrqzukpncsnirhoafxg' returns 16 10 2 16 3 5 15 13 23 18 24 12 3 3 18 17 26 21 11 16 14 3 19 14 9 18 8 15 1 6 24 7\n",
      "'fipbqxfdrexucnpkoegfvxiuqmtvpqyh' returns 6 9 16 2 17 24 6 4 18 5 24 21 3 14 16 11 15 5 7 6 22 24 9 21 17 13 20 22 16 17 25 8\n",
      "'sbcheqyrihfezuyaxatgnwonlfwixvlj' returns 19 2 3 8 5 17 25 18 9 8 6 5 26 21 25 1 24 1 20 7 14 23 15 14 12 6 23 9 24 22 12 10\n",
      "'riypsynvxgcsnlzdklzlqtejktuyvgkx' returns 18 9 25 16 19 25 14 22 24 7 3 19 14 12 26 4 11 12 26 12 17 20 5 10 11 20 21 25 22 7 11 24\n",
      "'bdcmfzdjanndxbnqzdsxsdyrwcfcgjqa' returns 2 4 3 13 6 26 4 10 1 14 14 4 24 2 14 17 26 4 19 24 19 4 25 18 23 3 6 3 7 10 17 1\n",
      "'pqhzxmyatvnzyfvphkftinezcnnxymzk' returns 16 17 8 26 24 13 25 1 20 22 14 26 25 6 22 16 8 11 6 20 9 14 5 26 3 14 14 24 25 13 26 11\n",
      "'nsglhiqspqzhfrucmkqndcebbrmzypey' returns 14 19 7 12 8 9 17 19 16 17 26 8 6 18 21 3 13 11 17 14 4 3 5 2 2 18 13 26 25 16 5 25\n",
      "'dqpriovwwyvvajcewaddxamzymbzmhaq' returns 4 17 16 18 9 15 22 23 23 25 22 22 1 10 3 5 23 1 4 4 24 1 13 26 25 13 2 26 13 8 1 17\n",
      "'jrjfdimpugovkwdahkatscopsysvzqsa' returns 10 18 10 6 4 9 13 16 21 7 15 22 11 23 4 1 8 11 1 20 19 3 15 16 19 25 19 22 26 17 19 1\n",
      "'dtlrswzoocfrijwmtltwwwwrtwmbaqjk' returns 4 20 12 18 19 23 26 15 15 3 6 18 9 10 23 13 20 12 20 23 23 23 23 18 20 23 13 2 1 17 10 11\n",
      "'nlgiwucidsiunrmwckwewhfzkpqjbqnz' returns 14 12 7 9 23 21 3 9 4 19 9 21 14 18 13 23 3 11 23 5 23 8 6 26 11 16 17 10 2 17 14 26\n",
      "'iceuausbhbcidubtttdempcyoivgfztt' returns 9 3 5 21 1 21 19 2 8 2 3 9 4 21 2 20 20 20 4 5 13 16 3 25 15 9 22 7 6 26 20 20\n",
      "'ayewgwkrflgumfsshiiodvhtlqbhacrh' returns 1 25 5 23 7 23 11 18 6 12 7 21 13 6 19 19 8 9 9 15 4 22 8 20 12 17 2 8 1 3 18 8\n",
      "'brtwifzchgrqjcgtqapydpeearhwsyvt' returns 2 18 20 23 9 6 26 3 8 7 18 17 10 3 7 20 17 1 16 25 4 16 5 5 1 18 8 23 19 25 22 20\n",
      "'xfuzzrwgcqygihmvfpvaemiwvlsfkzwt' returns 24 6 21 26 26 18 23 7 3 17 25 7 9 8 13 22 6 16 22 1 5 13 9 23 22 12 19 6 11 26 23 20\n",
      "'nigcbqxrphqkngofsupnuliqballgksz' returns 14 9 7 3 2 17 24 18 16 8 17 11 14 7 15 6 19 21 16 14 21 12 9 17 2 1 12 12 7 11 19 26\n",
      "'tmsdrbmlwwicolymupmtfjaajwruxfyv' returns 20 13 19 4 18 2 13 12 23 23 9 3 15 12 25 13 21 16 13 20 6 10 1 1 10 23 18 21 24 6 25 22\n",
      "'fyramsvdsiapcezutcjmjggcszgjvgcc' returns 6 25 18 1 13 19 22 4 19 9 1 16 3 5 26 21 20 3 10 13 10 7 7 3 19 26 7 10 22 7 3 3\n",
      "'iiomtwcwunypgvhskwlgkjcifltreaov' returns 9 9 15 13 20 23 3 23 21 14 25 16 7 22 8 19 11 23 12 7 11 10 3 9 6 12 20 18 5 1 15 22\n",
      "'gitrqgwjvqyehyeyhlzjmgugxyfadjsr' returns 7 9 20 18 17 7 23 10 22 17 25 5 8 25 5 25 8 12 26 10 13 7 21 7 24 25 6 1 4 10 19 18\n",
      "'fozllcecsosylnzrrliuwbrrqppenyjn' returns 6 15 26 12 12 3 5 3 19 15 19 25 12 14 26 18 18 12 9 21 23 2 18 18 17 16 16 5 14 25 10 14\n",
      "'ftgxwseydtgbdzpmfaxhouvhudomdofn' returns 6 20 7 24 23 19 5 25 4 20 7 2 4 26 16 13 6 1 24 8 15 21 22 8 21 4 15 13 4 15 6 14\n",
      "'krfudmdnltazozlwdnpqtppkurbaknhv' returns 11 18 6 21 4 13 4 14 12 20 1 26 15 26 12 23 4 14 16 17 20 16 16 11 21 18 2 1 11 14 8 22\n",
      "'tkmysrwxitukizuftsedkjvyjvljljga' returns 20 11 13 25 19 18 23 24 9 20 21 11 9 26 21 6 20 19 5 4 11 10 22 25 10 22 12 10 12 10 7 1\n",
      "'mvzgfahwmeopkrhjwvzyponkohrqmgkj' returns 13 22 26 7 6 1 8 23 13 5 15 16 11 18 8 10 23 22 26 25 16 15 14 11 15 8 18 17 13 7 11 10\n",
      "'utsdslrdkfhsqkehxxuutuuzlcyksszj' returns 21 20 19 4 19 12 18 4 11 6 8 19 17 11 5 8 24 24 21 21 20 21 21 26 12 3 25 11 19 19 26 10\n",
      "'mrjsgujbbnuddxekbkkhhxfikunavzge' returns 13 18 10 19 7 21 10 2 2 14 21 4 4 24 5 11 2 11 11 8 8 24 6 9 11 21 14 1 22 26 7 5\n",
      "'qcvtbkxkepdpzrceeurupcpgvghrmexb' returns 17 3 22 20 2 11 24 11 5 16 4 16 26 18 3 5 5 21 18 21 16 3 16 7 22 7 8 18 13 5 24 2\n",
      "'xqkwkjqlynhttutzioneqffnrottxdku' returns 24 17 11 23 11 10 17 12 25 14 8 20 20 21 20 26 9 15 14 5 17 6 6 14 18 15 20 20 24 4 11 21\n",
      "'pcmsoteockstxrxddmqhyibhhxpxcgdv' returns 16 3 13 19 15 20 5 15 3 11 19 20 24 18 24 4 4 13 17 8 25 9 2 8 8 24 16 24 3 7 4 22\n",
      "'dbibssioubmmlunnjijqqbxxfgfpducs' returns 4 2 9 2 19 19 9 15 21 2 13 13 12 21 14 14 10 9 10 17 17 2 24 24 6 7 6 16 4 21 3 19\n",
      "'awdleibkisuiruiuofprjcvlzjhxzcle' returns 1 23 4 12 5 9 2 11 9 19 21 9 18 21 9 21 15 6 16 18 10 3 22 12 26 10 8 24 26 3 12 5\n",
      "'qxpcygldorgtpqxyomrglpqxhfaezxwn' returns 17 24 16 3 25 7 12 4 15 18 7 20 16 17 24 25 15 13 18 7 12 16 17 24 8 6 1 5 26 24 23 14\n",
      "'hmdqdvwbgekbmappxaxdvhbddxdnaryz' returns 8 13 4 17 4 22 23 2 7 5 11 2 13 1 16 16 24 1 24 4 22 8 2 4 4 24 4 14 1 18 25 26\n",
      "'ylvuyqfkmiyvbpkbczuvlruiamifbdtk' returns 25 12 22 21 25 17 6 11 13 9 25 22 2 16 11 2 3 26 21 22 12 18 21 9 1 13 9 6 2 4 20 11\n"
     ]
    }
   ],
   "source": [
    "import random\n",
    "\n",
    "letters = [i for i in string.ascii_lowercase]\n",
    "test_list = []\n",
    "for i in range(100):\n",
    "    test_list.append(str(\"\".join(random.choices(letters, k=32))))\n",
    "    \n",
    "for i in range(len(test_list)):\n",
    "    print(\"'{}' returns {}\".format(test_list[i], alphabet_position(test_list[i])))"
   ]
  }
 ],
 "metadata": {
  "kernelspec": {
   "display_name": "Python 3",
   "language": "python",
   "name": "python3"
  },
  "language_info": {
   "codemirror_mode": {
    "name": "ipython",
    "version": 3
   },
   "file_extension": ".py",
   "mimetype": "text/x-python",
   "name": "python",
   "nbconvert_exporter": "python",
   "pygments_lexer": "ipython3",
   "version": "3.7.3"
  }
 },
 "nbformat": 4,
 "nbformat_minor": 2
}
