{
 "cells": [
  {
   "cell_type": "markdown",
   "metadata": {},
   "source": [
    "# <font color=#C70039>Two to One</font> "
   ]
  },
  {
   "cell_type": "markdown",
   "metadata": {},
   "source": [
    "__Latest Update:__ 15-10-19\n",
    "<br>\n",
    "__Author:__ Bhavesh Nathwani"
   ]
  },
  {
   "cell_type": "markdown",
   "metadata": {},
   "source": [
    "### <font color=#C70039>The Challenge:</font> \n",
    "https://www.codewars.com/kata/two-to-one/train/python\n",
    "<br>\n",
    "<br>\n",
    "**Description:**\n",
    "Take 2 strings s1 and s2 including only letters from ato z. Return a new sorted string, the longest possible, containing distinct letters,\n",
    "<br>\n",
    "each taken only once - coming from s1 or s2.\n",
    "<br>\n",
    "<br>\n",
    "**Examples:**\n",
    "<br>\n",
    "a = \"xyaabbbccccdefww\"\n",
    "<br>\n",
    "b = \"xxxxyyyyabklmopq\"\n",
    "<br>\n",
    "longest(a, b) -> \"abcdefklmopqwxy\"\n",
    "<br>\n",
    "<br>\n",
    "a = \"abcdefghijklmnopqrstuvwxyz\"\n",
    "<br>\n",
    "longest(a, a) -> \"abcdefghijklmnopqrstuvwxyz\""
   ]
  },
  {
   "cell_type": "code",
   "execution_count": 1,
   "metadata": {},
   "outputs": [],
   "source": [
    "def longest(s1, s2):\n",
    "    return ''.join(sorted(\"\".join(set(s1+s2))))"
   ]
  },
  {
   "cell_type": "markdown",
   "metadata": {},
   "source": [
    "### <font color=#C70039>Testing with random strings:</font> "
   ]
  },
  {
   "cell_type": "code",
   "execution_count": 4,
   "metadata": {},
   "outputs": [],
   "source": [
    "import random\n",
    "import string\n",
    "\n",
    "def randomString(stringLength=10):\n",
    "    \"\"\"Generate a random string of fixed length \"\"\"\n",
    "    letters = string.ascii_lowercase\n",
    "    return ''.join(random.choice(letters) for i in range(stringLength))"
   ]
  },
  {
   "cell_type": "code",
   "execution_count": 5,
   "metadata": {},
   "outputs": [
    {
     "name": "stdout",
     "output_type": "stream",
     "text": [
      "qrworshppx and rnpawauhdw returns adhnopqrsuwx\n",
      "ldxfzewhef and mqtgxgfjti returns defghijlmqtwxz\n",
      "pymuhosfhw and ujzxoyduce returns cdefhjmopsuwxyz\n",
      "bjvnkuojes and txxorcqdua returns abcdejknoqrstuvx\n",
      "abfbwasono and jrjekersla returns abefjklnorsw\n",
      "wcwmzefbvj and zulahvexid returns abcdefhijlmuvwxz\n",
      "qbipdujaem and jtrulnhfoz returns abdefhijlmnopqrtuz\n",
      "xmndzqbggo and nxqappwxbc returns abcdgmnopqwxz\n",
      "wblrkmjgnx and pxkyzzxrju returns bgjklmnpruwxyz\n",
      "thxlhtoglh and qdzqhqduhy returns dghloqtuxyz\n",
      "mbrpqkjpwh and okvdrolfwh returns bdfhjklmopqrvw\n",
      "piidmoioal and ylcetrnjsp returns acdeijlmnoprsty\n",
      "nkqlyzcmba and skioxrdhxy returns abcdhiklmnoqrsxyz\n",
      "dnxmoyhzdw and vsoqxanmsq returns adhmnoqsvwxyz\n",
      "crqvqxsfas and lrulvhlrhd returns acdfhlqrsuvx\n",
      "wcrzwpnyrq and hubkauuyyl returns abchklnpqruwyz\n",
      "ivbwfypgsf and hgyjvlvoqk returns bfghijklopqsvwy\n",
      "ytrrabaewy and qbjgnzyvwb returns abegjnqrtvwyz\n",
      "itwmnkhjvw and buyzcjdhkh returns bcdhijkmntuvwyz\n",
      "ovdegcqjew and xdedpbpinq returns bcdegijnopqvwx\n",
      "lproxdbkxq and cbkzswprrw returns bcdklopqrswxz\n",
      "jiknfkbjjo and ltzjdwaktn returns abdfijklnotwz\n",
      "ltgnyushuq and cehxtlgsqg returns ceghlnqstuxy\n",
      "okirmrdopl and xdicjujaut returns acdijklmoprtux\n",
      "exiieslsgq and ucrwiuymxf returns cefgilmqrsuwxy\n",
      "wcrxppgvwn and ukmfojmomw returns cfgjkmnopruvwx\n",
      "jheaxqcixn and helwckkhvr returns acehijklnqrvwx\n",
      "mxgfeubpfi and ggfxqeyedc returns bcdefgimpquxy\n",
      "eeyuttecod and moyrpgmdwa returns acdegmoprtuwy\n",
      "juwtvavlla and ebqvyztyuk returns abejklqtuvwyz\n",
      "rcejmexdzo and pxgspuyzdq returns cdegjmopqrsuxyz\n",
      "zygrhmdekt and sfywmnwoqn returns defghkmnoqrstwyz\n",
      "vjoznftwqm and pumvarcuhe returns acefhjmnopqrtuvwz\n",
      "qhacxcvolh and zjhzrpbnru returns abchjlnopqruvxz\n",
      "fiqssuwind and inbnektcwo returns bcdefiknoqstuw\n",
      "kupsfmqhpu and cnrmmokjdu returns cdfhjkmnopqrsu\n",
      "khviykcvhv and zvecdqduvg returns cdeghikquvyz\n",
      "ipdvusbgxd and cvupvvrjgj returns bcdgijprsuvx\n",
      "eacnpiphua and aqnfmiozgt returns acefghimnopqtuz\n",
      "xfdtyfwrwb and xonjhsxuku returns bdfhjknorstuwxy\n",
      "fsofmvbtpm and rvrgoabaxn returns abfgmnoprstvx\n",
      "fizxsrsvqu and gccxxbujrg returns bcfgijqrsuvxz\n",
      "bfqfzsvhrz and bnenwaadas returns abdefhnqrsvwz\n",
      "hpjbhwwhgx and vutllcyuoa returns abcghjloptuvwxy\n",
      "kbqcbdzehd and ietlinjmdd returns bcdehijklmnqtz\n",
      "htowzsicth and tquxninygm returns cghimnoqstuwxyz\n",
      "quvvzxnhdq and sfkrykdaip returns adfhiknpqrsuvxyz\n",
      "wbrjgtrrlz and wlpzmqpjyh returns bghjlmpqrtwyz\n",
      "lukpdamtdc and enejyulmyi returns acdeijklmnptuy\n",
      "xqqxfgzljj and jkusqsvjxx returns fgjklqsuvxz\n",
      "jnvwdzhrlw and pnphmndegh returns deghjlmnprvwz\n",
      "uggusgphgl and mevlrhmayf returns aefghlmprsuvy\n",
      "oetqztakxt and sthjkbvbwx returns abehjkoqstvwxz\n",
      "eytpjepyoy and pewighrihn returns eghijnoprtwy\n",
      "fwrukmbxsn and ymonqqviiw returns bfikmnoqrsuvwxy\n",
      "dzxnpjcmop and myjtbdmxiq returns bcdijmnopqtxyz\n",
      "lapburjkrp and pabmaunpus returns abjklmnprsu\n",
      "vxzgssphmg and eqmedrezdy returns deghmpqrsvxyz\n",
      "opbmdnfhfc and kovqkgkqtq returns bcdfghkmnopqtv\n",
      "azzbeunjli and aydysvpypk returns abdeijklnpsuvyz\n",
      "lcemaktmtk and tvefdcaqhn returns acdefhklmnqtv\n",
      "alvevacttc and bzdlqfqkwd returns abcdefklqtvwz\n",
      "unprbqsncf and tsfcgqxlhq returns bcfghlnpqrstux\n",
      "onjrhyfyyy and lzdlcsawtg returns acdfghjlnorstwyz\n",
      "sloiqoisqj and wioqswdmms returns dijlmoqsw\n",
      "fsjgtjfcab and plquhfyzbd returns abcdfghjlpqstuyz\n",
      "khwkifamjt and hzjzgpiriu returns afghijkmprtuwz\n",
      "xbbehnldpj and pefkkihhav returns abdefhijklnpvx\n",
      "iwmewmwqgy and nwwikjzcep returns cegijkmnpqwyz\n",
      "jrjzesqrxd and jpfktfdass returns adefjkpqrstxz\n",
      "iwhfoieejc and brxnhnzflz returns bcefhijlnorwxz\n",
      "sxtzdnilha and ksoeqtaxnm returns adehiklmnoqstxz\n",
      "edazhmasxt and ytyxmeyqea returns adehmqstxyz\n",
      "hnbxajbsku and gnckblfcio returns abcfghijklnosux\n",
      "wfqfdfjzsv and haienmtvzp returns adefhijmnpqstvwz\n",
      "xnlqjqtipk and njrgluzfdy returns dfgijklnpqrtuxyz\n",
      "lsofezzbkb and gvbxxavarp returns abefgkloprsvxz\n",
      "qkfpnxigwv and stfasgivob returns abfgiknopqstvwx\n",
      "stoqadhvmy and ujxowfjady returns adfhjmoqstuvwxy\n",
      "ydjbufemax and emzjkzpzob returns abdefjkmopuxyz\n",
      "qfqilbdvlq and adrbgtacra returns abcdfgilqrtv\n",
      "epkzuozcrc and iglpghmpob returns bceghiklmopruz\n",
      "makijfnjjl and xchzqbknnk returns abcfhijklmnqxz\n",
      "vfexfvenkq and guecqbdlwh returns bcdefghklnquvwx\n",
      "dwrgwkiapu and nbgztafuvb returns abdfgiknprtuvwz\n",
      "jqiiztjksl and oivmqzxqui returns ijklmoqstuvxz\n",
      "etgfenzndh and ejyjyzscrb returns bcdefghjnrstyz\n",
      "klknqpgdyw and nncmndprpw returns cdgklmnpqrwy\n",
      "zlcoshsrkc and ssbktvylhe returns bcehklorstvyz\n",
      "fiulgikqeg and ljuroflmsb returns befgijklmoqrsu\n",
      "acllticdsm and xxobtjoyqz returns abcdijlmoqstxyz\n",
      "fcbioggfxm and vbloeaahld returns abcdefghilmovx\n",
      "qowcwagafj and ezxdjxtrqv returns acdefgjoqrtvwxz\n",
      "kjxcqfdxjz and hifnoxuhts returns cdfhijknoqstuxz\n",
      "bmemxasfpk and wgaqvsabwz returns abefgkmpqsvwxz\n",
      "fftrsriggr and xboltmxxoz returns bfgilmorstxz\n",
      "fafqzrcqxq and zywlgsebsx returns abcefglqrswxyz\n",
      "khggfzhxnn and iqafqlikaf returns afghiklnqxz\n",
      "apgdgysmup and msgeuqkijz returns adegijkmpqsuyz\n",
      "iglavuwbmb and tgvehigjht returns abeghijlmtuvw\n"
     ]
    }
   ],
   "source": [
    "for i in range(100):\n",
    "    string1 = randomString(10)\n",
    "    string2 = randomString(10)\n",
    "    print(\"{} and {} returns {}\".format(string1, string2, longest(string1, string2)))"
   ]
  }
 ],
 "metadata": {
  "kernelspec": {
   "display_name": "Python 3",
   "language": "python",
   "name": "python3"
  },
  "language_info": {
   "codemirror_mode": {
    "name": "ipython",
    "version": 3
   },
   "file_extension": ".py",
   "mimetype": "text/x-python",
   "name": "python",
   "nbconvert_exporter": "python",
   "pygments_lexer": "ipython3",
   "version": "3.7.3"
  }
 },
 "nbformat": 4,
 "nbformat_minor": 2
}
