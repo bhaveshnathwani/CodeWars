{
 "cells": [
  {
   "cell_type": "markdown",
   "metadata": {},
   "source": [
    "# Your order, please"
   ]
  },
  {
   "cell_type": "markdown",
   "metadata": {},
   "source": [
    "__Latest Update:__ 24-10-19\n",
    "<br>\n",
    "__Author:__ Bhavesh Nathwani"
   ]
  },
  {
   "cell_type": "markdown",
   "metadata": {},
   "source": [
    "### The Challenge:\n",
    "https://www.codewars.com/kata/your-order-please/train/python\n",
    "<br>\n",
    "<br>\n",
    "**Description:**\n",
    "Your task is to sort a given string. Each word in the string will contain a single number. \n",
    "<br>\n",
    "This number is the position the word should have in the result.\n",
    "<br>\n",
    "If the input string is empty, return an empty string.\n",
    "<br>\n",
    "The words in the input String will only contain valid consecutive numbers.\n",
    "<br>\n",
    "<br>\n",
    "**Examples:**\n",
    "<br>\n",
    "\"is2 Thi1s T4est 3a\"  -->  \"Thi1s is2 3a T4est\"\n",
    "<br>\n",
    "\"4of Fo1r pe6ople g3ood th5e the2\"  -->  \"Fo1r the2 g3ood 4of th5e pe6ople\"\n",
    "<br>\n",
    "\"\"  -->  \"\"\n",
    "<br>\n",
    "<br>\n",
    "**NOTE:** Numbers can be from 1 to 9. So 1 will be the first word (not 0)."
   ]
  },
  {
   "cell_type": "code",
   "execution_count": 71,
   "metadata": {},
   "outputs": [],
   "source": [
    "import re\n",
    "\n",
    "def order(sentence):\n",
    "    try:\n",
    "        sentence_list = sentence.split()\n",
    "        sentence_index = [x-1 for x in list(map(int, re.findall(\"[0-9]\", sentence)))]\n",
    "        return \" \".join([line for (time,line) in sorted(zip(sentence_index, sentence_list))])\n",
    "    except:\n",
    "        return \"\""
   ]
  },
  {
   "cell_type": "markdown",
   "metadata": {},
   "source": [
    "### Testing with random integars:"
   ]
  },
  {
   "cell_type": "code",
   "execution_count": 72,
   "metadata": {},
   "outputs": [
    {
     "name": "stdout",
     "output_type": "stream",
     "text": [
      "'1do' returns 1do\n",
      "'1for' returns 1for\n",
      "'1good 2great on4e 3thing' returns 1good 2great 3thing on4e\n",
      "'1great' returns 1great\n",
      "'1her' returns 1her\n",
      "'1into p5lace new2 y6oung 4by 3she' returns 1into new2 3she 4by p5lace y6oung\n",
      "'1you' returns 1you\n",
      "'3go I4 2number p1lace' returns p1lace 2number 3go I4\n",
      "'4make cal3l leave1 small2' returns leave1 small2 cal3l 4make\n",
      "'4think 2early se1e sa3y' returns se1e 2early sa3y 4think\n",
      "'5as im6portant few2 fo1r her4 b3y' returns fo1r few2 b3y her4 5as im6portant\n",
      "'6will goo5d t1ake u2p bu3t 7other 4new' returns t1ake u2p bu3t 4new goo5d 6will 7other\n",
      "'a1t a2s' returns a1t a2s\n",
      "'abl4e ge3t t6his go5 year1 and2' returns year1 and2 ge3t abl4e go5 t6his\n",
      "'big1' returns big1\n",
      "'c3all ea2rly s4ee to1' returns to1 ea2rly c3all s4ee\n",
      "'case7 4I h1and w2oman l6ast w3orld 5look' returns h1and w2oman w3orld 4I 5look l6ast case7\n",
      "'chi1ld' returns chi1ld\n",
      "'comp2any f4irst way5 abo3ut on6e g7ive p8roblem find1' returns find1 comp2any abo3ut f4irst way5 on6e g7ive p8roblem\n",
      "'compan1y 3work he2r' returns compan1y he2r 3work\n",
      "'e1ye' returns e1ye\n",
      "'fac1t 2the' returns fac1t 2the\n",
      "'feel3 2other abo1ut 4for' returns abo1ut 2other feel3 4for\n",
      "'find4 way2 will1 3up have5' returns will1 way2 3up find4 have5\n",
      "'g1overnment as5 per2son from3 6by ma4n' returns g1overnment per2son from3 ma4n as5 6by\n",
      "'giv6e the1ir 2one 3go they7 b4y pr5oblem' returns the1ir 2one 3go b4y pr5oblem giv6e they7\n",
      "'gov1ernment poin2t n4ext g6o lif5e 3about' returns gov1ernment poin2t 3about n4ext lif5e g6o\n",
      "'I2 s1he' returns s1he I2\n",
      "'know7 wi4th ge5t great8 eye1 wo6rk 2right an3' returns eye1 2right an3 wi4th ge5t wo6rk know7 great8\n",
      "'lea3ve a2ble 4and 1I' returns 1I a2ble lea3ve 4and\n",
      "'next3 i6n grea1t te4ll bu2t t5o mak7e h8igh' returns grea1t bu2t next3 te4ll t5o i6n mak7e h8igh\n",
      "'s3ee use2 of1 b4ut' returns of1 use2 s3ee b4ut\n",
      "'see2 governmen1t' returns governmen1t see2\n",
      "'t2o 1see' returns 1see t2o\n",
      "'t3his think5 ye7ar hand2 g6o a1 4would 8bad' returns a1 hand2 t3his 4would think5 g6o ye7ar 8bad\n",
      "'ta4ke h1and earl3y wit5h a2' returns h1and a2 earl3y ta4ke wit5h\n",
      "'th3ey ti1me pu2blic' returns ti1me pu2blic th3ey\n",
      "'they1 n5umber ma6n government3 4be one2' returns they1 one2 government3 4be n5umber ma6n\n",
      "'time4 th7ey p5ublic tell3 o2f diffe1rent a6n larg9e work8' returns diffe1rent o2f tell3 time4 p5ublic a6n th7ey work8 larg9e\n",
      "'w3ork n6ot year8 cal7l 5say of4 there2 ma1n' returns ma1n there2 w3ork of4 5say n6ot cal7l year8\n",
      "'w5ith 6number a3sk make1 chi4ld t2o' returns make1 t2o a3sk chi4ld w5ith 6number\n",
      "'wee1k 4government 3own a2t' returns wee1k a2t 3own 4government\n",
      "'wou1ld lo3ng g2reat' returns wou1ld g2reat lo3ng\n",
      "'yea3r ti4me thing1 2their' returns thing1 2their yea3r ti4me\n"
     ]
    }
   ],
   "source": [
    "import random\n",
    "\n",
    "test_list = ['1do','1for','1good 2great on4e 3thing','1great','1her','1into p5lace new2 y6oung 4by 3she','1you','3go I4 2number p1lace',\n",
    "'4make cal3l leave1 small2','4think 2early se1e sa3y','5as im6portant few2 fo1r her4 b3y','6will goo5d t1ake u2p bu3t 7other 4new',\n",
    "'a1t a2s','abl4e ge3t t6his go5 year1 and2','big1','c3all ea2rly s4ee to1','case7 4I h1and w2oman l6ast w3orld 5look',\n",
    "'chi1ld','comp2any f4irst way5 abo3ut on6e g7ive p8roblem find1','compan1y 3work he2r','e1ye','fac1t 2the','feel3 2other abo1ut 4for',\n",
    "'find4 way2 will1 3up have5','g1overnment as5 per2son from3 6by ma4n','giv6e the1ir 2one 3go they7 b4y pr5oblem','gov1ernment poin2t n4ext g6o lif5e 3about',\n",
    "'I2 s1he','know7 wi4th ge5t great8 eye1 wo6rk 2right an3','lea3ve a2ble 4and 1I','next3 i6n grea1t te4ll bu2t t5o mak7e h8igh',\n",
    "'s3ee use2 of1 b4ut','see2 governmen1t','t2o 1see','t3his think5 ye7ar hand2 g6o a1 4would 8bad','ta4ke h1and earl3y wit5h a2',\n",
    "'th3ey ti1me pu2blic','they1 n5umber ma6n government3 4be one2','time4 th7ey p5ublic tell3 o2f diffe1rent a6n larg9e work8',\n",
    "'w3ork n6ot year8 cal7l 5say of4 there2 ma1n','w5ith 6number a3sk make1 chi4ld t2o','wee1k 4government 3own a2t',\n",
    "'wou1ld lo3ng g2reat','yea3r ti4me thing1 2their']\n",
    "\n",
    "for i in range(len(test_list)):\n",
    "    print(\"'{}' returns {}\".format(test_list[i], order(test_list[i])))"
   ]
  }
 ],
 "metadata": {
  "kernelspec": {
   "display_name": "Python 3",
   "language": "python",
   "name": "python3"
  },
  "language_info": {
   "codemirror_mode": {
    "name": "ipython",
    "version": 3
   },
   "file_extension": ".py",
   "mimetype": "text/x-python",
   "name": "python",
   "nbconvert_exporter": "python",
   "pygments_lexer": "ipython3",
   "version": "3.7.3"
  }
 },
 "nbformat": 4,
 "nbformat_minor": 2
}
