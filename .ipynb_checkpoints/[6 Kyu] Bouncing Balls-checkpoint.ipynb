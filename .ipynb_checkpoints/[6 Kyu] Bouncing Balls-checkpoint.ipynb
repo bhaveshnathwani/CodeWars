{
 "cells": [
  {
   "cell_type": "markdown",
   "metadata": {},
   "source": [
    "# Dashatize It"
   ]
  },
  {
   "cell_type": "markdown",
   "metadata": {},
   "source": [
    "__Latest Update:__ 15-10-19\n",
    "<br>\n",
    "__Author:__ Bhavesh Nathwani"
   ]
  },
  {
   "cell_type": "markdown",
   "metadata": {},
   "source": [
    "### The Challenge:\n",
    "https://www.codewars.com/kata/bouncing-balls/train/python\n",
    "<br>\n",
    "<br>\n",
    "**Description:**\n",
    "<br>\n",
    "A child is playing with a ball on the nth floor of a tall building. The height of this floor, h, is known.\n",
    "<br>\n",
    "He drops the ball out of the window. The ball bounces (for example), to two-thirds of its height (a bounce of 0.66).\n",
    "<br>\n",
    "His mother looks out of a window 1.5 meters from the ground.\n",
    "<br>\n",
    "How many times will the mother see the ball pass in front of her window (including when it's falling and bouncing?\n",
    "<br>\n",
    "<br>\n",
    "**Three conditions** must be met for a valid experiment:\n",
    "<br>\n",
    "Float parameter \"h\" in meters must be greater than 0\n",
    "<br>\n",
    "Float parameter \"bounce\" must be greater than 0 and less than 1\n",
    "<br>\n",
    "Float parameter \"window\" must be less than h.\n",
    "<br>\n",
    "If all three conditions above are fulfilled, return a positive integer, otherwise return -1.\n",
    "<br>\n",
    "<br>\n",
    "**Note:**\n",
    "The ball can only be seen if the height of the rebounding ball is strictly greater than the window parameter.\n",
    "<br>\n",
    "<br>\n",
    "**Example:**\n",
    "<br>\n",
    "h = 3, bounce = 0.66, window = 1.5, result is 3\n",
    "h = 3, bounce = 1, window = 1.5, result is -1 \n",
    "\n",
    "\n"
   ]
  },
  {
   "cell_type": "code",
   "execution_count": 3,
   "metadata": {},
   "outputs": [],
   "source": [
    "def bouncingBall(h, bounce, window):\n",
    "    bounces = 0\n",
    "    \n",
    "    #initial conditions must be met or -1 is returned\n",
    "    if float(h) <= 0    or \\\n",
    "       float(bounce)<=0 or \\\n",
    "       float(bounce)>=1 or \\\n",
    "       float(window)>=float(h):\n",
    "        return -1\n",
    "       \n",
    "    else:\n",
    "        height = h\n",
    "        #Our initial condition is ball drop height > window height, so we always have a bounce if intial conditions are met\n",
    "        bounces += 1\n",
    "        while height*bounce > window:\n",
    "            #first bounce\n",
    "            bounces +=1\n",
    "            #height of new bounce\n",
    "            height *= bounce\n",
    "            #bounce from new height seen on the way down\n",
    "            if height > window:\n",
    "                bounces+=1\n",
    "        return bounces\n",
    "        \n",
    "       "
   ]
  },
  {
   "cell_type": "markdown",
   "metadata": {},
   "source": [
    "### Testing:"
   ]
  },
  {
   "cell_type": "code",
   "execution_count": 5,
   "metadata": {},
   "outputs": [
    {
     "name": "stdout",
     "output_type": "stream",
     "text": [
      "bouncingBall(3, 0.66, 1.5) returns 3\n",
      "bouncingBall(30, 0.66, 1.5) returns 15\n"
     ]
    }
   ],
   "source": [
    "print(\"{} returns {}\".format(\"bouncingBall(3, 0.66, 1.5)\", bouncingBall(3, 0.66, 1.5)))\n",
    "print(\"{} returns {}\".format(\"bouncingBall(30, 0.66, 1.5)\", bouncingBall(30, 0.66, 1.5)))"
   ]
  }
 ],
 "metadata": {
  "kernelspec": {
   "display_name": "Python 3",
   "language": "python",
   "name": "python3"
  },
  "language_info": {
   "codemirror_mode": {
    "name": "ipython",
    "version": 3
   },
   "file_extension": ".py",
   "mimetype": "text/x-python",
   "name": "python",
   "nbconvert_exporter": "python",
   "pygments_lexer": "ipython3",
   "version": "3.7.3"
  }
 },
 "nbformat": 4,
 "nbformat_minor": 2
}
