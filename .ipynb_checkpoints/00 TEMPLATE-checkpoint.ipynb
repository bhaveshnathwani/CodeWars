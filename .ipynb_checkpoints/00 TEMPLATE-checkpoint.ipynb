{
 "cells": [
  {
   "cell_type": "markdown",
   "metadata": {},
   "source": [
    "# <font color=#C70039>Write Number in Expanded Form</font> "
   ]
  },
  {
   "cell_type": "markdown",
   "metadata": {},
   "source": [
    "__Latest Update:__ 15-10-19\n",
    "<br>\n",
    "__Author:__ Bhavesh Nathwani"
   ]
  },
  {
   "cell_type": "markdown",
   "metadata": {},
   "source": [
    "### <font color=#C70039>The Challenge:</font> \n",
    "https://www.codewars.com/kata/write-number-in-expanded-form/train/python\n",
    "<br>\n",
    "<br>\n",
    "**Description:**\n",
    "Write Number in Expanded Form\n",
    "<br>\n",
    "You will be given a number and you will need to return it as a string in Expanded Form. For example:\n",
    "<br>\n",
    "<br>\n",
    "**Examples:**\n",
    "<br>\n",
    "expanded_form(12) # Should return '10 + 2'\n",
    "<br>\n",
    "expanded_form(42) # Should return '40 + 2'\n",
    "<br>\n",
    "expanded_form(70304) # Should return '70000 + 300 + 4'\n",
    "<br>\n",
    "<br>\n",
    "**NOTE:** All numbers will be whole numbers greater than 0."
   ]
  },
  {
   "cell_type": "code",
   "execution_count": null,
   "metadata": {},
   "outputs": [],
   "source": [
    "num = 114014\n",
    "        num_list = [int(i) for i in str(num)]\n",
    "        num_list2 = []\n",
    "        "
   ]
  },
  {
   "cell_type": "code",
   "execution_count": null,
   "metadata": {},
   "outputs": [],
   "source": []
  },
  {
   "cell_type": "code",
   "execution_count": null,
   "metadata": {},
   "outputs": [],
   "source": []
  },
  {
   "cell_type": "code",
   "execution_count": null,
   "metadata": {},
   "outputs": [],
   "source": [
    "### <font color=#C70039>Testing with random integars:</font> "
   ]
  },
  {
   "cell_type": "code",
   "execution_count": null,
   "metadata": {},
   "outputs": [],
   "source": [
    "import random\n",
    "\n",
    "test_list = [random.randint(0,1000) for i in range(100)]\n",
    "\n",
    "for i in range(len(test_list)):\n",
    "    print(\"'{}' returns {}\".format(test_list[i], expanded_form(test_list[i])))"
   ]
  }
 ],
 "metadata": {
  "kernelspec": {
   "display_name": "Python 3",
   "language": "python",
   "name": "python3"
  },
  "language_info": {
   "codemirror_mode": {
    "name": "ipython",
    "version": 3
   },
   "file_extension": ".py",
   "mimetype": "text/x-python",
   "name": "python",
   "nbconvert_exporter": "python",
   "pygments_lexer": "ipython3",
   "version": "3.7.3"
  }
 },
 "nbformat": 4,
 "nbformat_minor": 2
}
