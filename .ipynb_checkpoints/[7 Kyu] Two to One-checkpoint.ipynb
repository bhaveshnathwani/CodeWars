{
 "cells": [
  {
   "cell_type": "markdown",
   "metadata": {},
   "source": [
    "# Two to One"
   ]
  },
  {
   "cell_type": "markdown",
   "metadata": {},
   "source": [
    "__Latest Update:__ 15-10-19\n",
    "<br>\n",
    "__Author:__ Bhavesh Nathwani"
   ]
  },
  {
   "cell_type": "markdown",
   "metadata": {},
   "source": [
    "### The Challenge:\n",
    "https://www.codewars.com/kata/two-to-one/train/python\n",
    "<br>\n",
    "<br>\n",
    "**Description:**\n",
    "Take 2 strings s1 and s2 including only letters from ato z. Return a new sorted string, the longest possible, containing distinct letters,\n",
    "<br>\n",
    "each taken only once - coming from s1 or s2.\n",
    "<br>\n",
    "<br>\n",
    "**Examples:**\n",
    "<br>\n",
    "a = \"xyaabbbccccdefww\"\n",
    "<br>\n",
    "b = \"xxxxyyyyabklmopq\"\n",
    "<br>\n",
    "longest(a, b) -> \"abcdefklmopqwxy\"\n",
    "<br>\n",
    "<br>\n",
    "a = \"abcdefghijklmnopqrstuvwxyz\"\n",
    "<br>\n",
    "longest(a, a) -> \"abcdefghijklmnopqrstuvwxyz\""
   ]
  },
  {
   "cell_type": "code",
   "execution_count": 1,
   "metadata": {},
   "outputs": [],
   "source": [
    "def longest(s1, s2):\n",
    "    return ''.join(sorted(\"\".join(set(s1+s2))))"
   ]
  },
  {
   "cell_type": "markdown",
   "metadata": {},
   "source": [
    "### Testing with random strings:"
   ]
  },
  {
   "cell_type": "code",
   "execution_count": 2,
   "metadata": {},
   "outputs": [
    {
     "name": "stdout",
     "output_type": "stream",
     "text": [
      "jyckyhuoyu and dbhcdiptzl returns bcdhijkloptuyz\n",
      "krxauorvic and oobjrqdwga returns abcdgijkoqruvwx\n",
      "luvmkemzeh and nbpccrmosq returns bcehklmnopqrsuvz\n",
      "wwneginnyr and fuqxxpszxt returns efginpqrstuwxyz\n",
      "rwdrxgebnf and vaqswyetbg returns abdefgnqrstvwxy\n",
      "epmzezjise and vdpocibxdr returns bcdeijmoprsvxz\n",
      "wszfpkbeuc and chrnpqyxxo returns bcefhknopqrsuwxyz\n",
      "rghqrcicph and vbdlphbojg returns bcdghijlopqrv\n",
      "ognzuwfoxl and vvismwikbc returns bcfgiklmnosuvwxz\n",
      "gfktsfpijj and djlgohinwr returns dfghijklnoprstw\n",
      "bghsscnouz and vfjvmunmqv returns bcfghjmnoqsuvz\n",
      "ldskvrkjpe and swivjxdzbd returns bdeijklprsvwxz\n",
      "wwxpntxdfq and vnaiqargmw returns adfgimnpqrtvwx\n",
      "jtozjeqboe and amkkpkuxli returns abeijklmopqtuxz\n",
      "mvuvjcxiod and vuilagygho returns acdghijlmouvxy\n",
      "boaulvzmgq and emdvvzbabx returns abdeglmoquvxz\n",
      "gxyxdwiywy and nulbltycdh returns bcdghilntuwxy\n",
      "onhpiiujml and dgebonbhvb returns bdeghijlmnopuv\n",
      "rqpsmqjjtt and jiaehnndid returns adehijmnpqrst\n",
      "zexvyfwmbf and rcxgyctvlf returns bcefglmrtvwxyz\n",
      "khcnbzlgyq and mywzwlhfsx returns bcfghklmnqswxyz\n",
      "eyohtlehyo and wyygdgdmfc returns cdefghlmotwy\n",
      "lycyjvswev and uklhrwrnqd returns cdehjklnqrsuvwy\n",
      "bdzulophti and fhmyflnmdd returns bdfhilmnoptuyz\n",
      "flkgtrxwjm and lcqycoiojx returns cfgijklmoqrtwxy\n",
      "tvvxyypdku and buxhktfqmq returns bdfhkmpqtuvxy\n",
      "vrcangvndv and zmlmqubtkh returns abcdghklmnqrtuvz\n",
      "rdontcxbpm and gaygdcgokf returns abcdfgkmnoprtxy\n",
      "esbtktqotr and evilmkyept returns beiklmopqrstvy\n",
      "yzycireaix and vqpjokainv returns aceijknopqrvxyz\n",
      "ipbjlrxjoh and cglwdherit returns bcdeghijloprtwx\n",
      "buofovjfvl and jxxivbgupo returns bfgijlopuvx\n",
      "cyrqkojvrl and gsfocooduk returns cdfgjkloqrsuvy\n",
      "rsnilurvzc and ufcmpxaikw returns acfiklmnprsuvwxz\n",
      "lwjwyzzybz and lvgpgxcvbv returns bcgjlpvwxyz\n",
      "iwovpbwedx and eskvpywqjf returns bdefijkopqsvwxy\n",
      "yexpvhauaa and bgydefcgoq returns abcdefghopquvxy\n",
      "enaqdiitog and qdihgyrmut returns adeghimnoqrtuy\n",
      "nwzivcjfgh and oftjabnmnp returns abcfghijmnoptvwz\n",
      "kpadjgpabf and smijgvhola returns abdfghijklmopsv\n",
      "ejoudaynzg and pqsxoohjbu returns abdeghjnopqsuxyz\n",
      "jdosvrshqv and injjhbkgst returns bdghijknoqrstv\n",
      "prphxyyfwp and unlghtleae returns aefghlnprtuwxy\n",
      "ruswekgrpb and nweggapcbq returns abcegknpqrsuw\n",
      "yjflqiakmk and dgvnxaodda returns adfgijklmnoqvxy\n",
      "ovzygfnkvm and znxttnjijx returns fgijkmnotvxyz\n",
      "dlijhomfmh and krthzbjgch returns bcdfghijklmortz\n",
      "fbyxpdgeda and fdefcnmyrp returns abcdefgmnprxy\n",
      "cwgncoxnyn and hwfklcynhf returns cfghklnowxy\n",
      "bvqxgtafef and jlttvuiati returns abefgijlqtuvx\n",
      "rclocjvxqb and fjqfckvlum returns bcfjklmoqruvx\n",
      "lllbewmlcj and mpjcwmahks returns abcehjklmpsw\n",
      "dpxarknzas and jwppfgjbzi returns abdfgijknprswxz\n",
      "mqduksglrh and uifovstxup returns dfghiklmopqrstuvx\n",
      "biuphhoqap and ehjzdecaqg returns abcdeghijopquz\n",
      "pgsuiqlkbp and ruhxxthhhz returns bghiklpqrstuxz\n",
      "mrwpdxelhd and ljvpzogjob returns bdeghjlmoprvwxz\n",
      "dvguognyhe and fclhprbwug returns bcdefghlnopruvwy\n",
      "frjrwfcuzi and gtlunadxep returns acdefgijlnprtuwxz\n",
      "jsndjuvavg and kraopvkqbn returns abdgjknopqrsuv\n",
      "mxzrwinbyq and uahwyzegvy returns abeghimnqruvwxyz\n",
      "antnlwdtak and rwreaurlmh returns adehklmnrtuw\n",
      "wzhoesttel and rblxftctcj returns bcefhjlorstwxz\n",
      "wmagikjres and hpcoiujrit returns aceghijkmoprstuw\n",
      "ulplhlgwqc and jcgxrocuvz returns cghjlopqruvwxz\n",
      "zumzfeinva and iqmosiezlm returns aefilmnoqsuvz\n",
      "cndxisvmrz and fptpmhnxrx returns cdfhimnprstvxz\n",
      "ydqimfkqmt and mcuemxlplz returns cdefiklmpqtuxyz\n",
      "dgpxcbvlbj and qdpwtrelyo returns bcdegjlopqrtvwxy\n",
      "cibzwpsbwr and ymhfivxntm returns bcfhimnprstvwxyz\n",
      "xvcjbfkkpx and burhlzdred returns bcdefhjklpruvxz\n",
      "koqtwfyuwa and bhuienfuai returns abefhiknoqtuwy\n",
      "efpsxgpdsq and fdxcrkhvgp returns cdefghkpqrsvx\n",
      "rzjmtzhmcs and gffhwuaxyu returns acfghjmrstuwxyz\n",
      "wyqlsctiuj and hqnxpqzuge returns ceghijlnpqstuwxyz\n",
      "lrigagyjvp and czrzgumrok returns acgijklmopruvyz\n",
      "dsjihnnxwr and aubcrfuidq returns abcdfhijnqrsuwx\n",
      "qvyxlktywu and lwgjqupgus returns gjklpqstuvwxy\n",
      "xbebfhukqa and akvkzaswek returns abefhkqsuvwxz\n",
      "zydougwsuh and uyjrvssals returns adghjlorsuvwyz\n",
      "npgdnwnbha and zlesgwjeua returns abdeghjlnpsuwz\n",
      "sqlllpdovc and frqccwhvzl returns cdfhlopqrsvwz\n",
      "vinekukatb and zipokbocgx returns abcegiknoptuvxz\n",
      "mdoblhjhgq and zzflbargse returns abdefghjlmoqrsz\n",
      "lyveclxfie and lfiqyutiip returns cefilpqtuvxy\n",
      "yjvxvpwkhi and zhkziglwun returns ghijklnpuvwxyz\n",
      "ogbgrkgluz and tdxlluycnv returns bcdgklnortuvxyz\n",
      "efviwutesk and xwkcyvelui returns cefiklstuvwxy\n",
      "ktaxghuahp and rocjszerax returns aceghjkoprstuxz\n",
      "efwvscyvte and oghrhywzjd returns cdefghjorstvwyz\n",
      "eqowjusymz and mlbwxbhmek returns behjklmoqsuwxyz\n",
      "liczqmqhwb and ihvzftrydi returns bcdfhilmqrtvwyz\n",
      "nwsgcehlsc and kjvsxsyfpp returns cefghjklnpsvwxy\n",
      "imsqytzsmy and fxnjuzdpbw returns bdfijmnpqstuwxyz\n",
      "vncnjxvmxg and nvuorbbebn returns bcegjmnoruvx\n",
      "aouzjsskmt and mslonxjqfe returns aefjklmnoqstuxz\n",
      "cfuiajkifm and lzfqigdfwv returns acdfgijklmquvwz\n",
      "kgcusgqzlj and vhaflnfnhq returns acfghjklnqsuvz\n",
      "ucbnfpiimw and gzlpdcrsll returns bcdfgilmnprsuwz\n",
      "wopricxjyq and bqpcpgjxgt returns bcgijopqrtwxy\n"
     ]
    }
   ],
   "source": [
    "import random\n",
    "import string\n",
    "\n",
    "def randomString(stringLength=10):\n",
    "    \"\"\"Generate a random string of fixed length \"\"\"\n",
    "    letters = string.ascii_lowercase\n",
    "    return ''.join(random.choice(letters) for i in range(stringLength))\n",
    "\n",
    "for i in range(100):\n",
    "    string1 = randomString(10)\n",
    "    string2 = randomString(10)\n",
    "    print(\"{} and {} returns {}\".format(string1, string2, longest(string1, string2)))"
   ]
  },
  {
   "cell_type": "code",
   "execution_count": null,
   "metadata": {},
   "outputs": [],
   "source": []
  }
 ],
 "metadata": {
  "kernelspec": {
   "display_name": "Python 3",
   "language": "python",
   "name": "python3"
  },
  "language_info": {
   "codemirror_mode": {
    "name": "ipython",
    "version": 3
   },
   "file_extension": ".py",
   "mimetype": "text/x-python",
   "name": "python",
   "nbconvert_exporter": "python",
   "pygments_lexer": "ipython3",
   "version": "3.7.3"
  }
 },
 "nbformat": 4,
 "nbformat_minor": 2
}
