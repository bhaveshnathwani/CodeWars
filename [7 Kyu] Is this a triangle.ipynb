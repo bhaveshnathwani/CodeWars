{
 "cells": [
  {
   "cell_type": "markdown",
   "metadata": {},
   "source": [
    "# Is this a triangle?"
   ]
  },
  {
   "cell_type": "markdown",
   "metadata": {},
   "source": [
    "__Latest Update:__ 15-10-19\n",
    "<br>\n",
    "__Author:__ Bhavesh Nathwani"
   ]
  },
  {
   "cell_type": "markdown",
   "metadata": {},
   "source": [
    "### The Challenge:\n",
    "https://www.codewars.com/kata/is-this-a-triangle/train/python\n",
    "<br>\n",
    "<br>\n",
    "**Description:**\n",
    "Implement a method that accepts 3 integer values a, b, c. 4\n",
    "<br>\n",
    "The method should return true if a triangle can be built with the sides of given length and false in any other case.\n",
    "<br>\n",
    "<br>\n",
    "**NOTE:** In this case, all triangles must have surface greater than 0 to be accepted."
   ]
  },
  {
   "cell_type": "code",
   "execution_count": 1,
   "metadata": {},
   "outputs": [],
   "source": [
    "def is_triangle(a, b, c):\n",
    "    return True if a+b>c and a+c>b and c+b > a else False"
   ]
  },
  {
   "cell_type": "markdown",
   "metadata": {},
   "source": [
    "### Testing with random integars:"
   ]
  },
  {
   "cell_type": "code",
   "execution_count": 4,
   "metadata": {},
   "outputs": [
    {
     "name": "stdout",
     "output_type": "stream",
     "text": [
      "'188,729,987' returns False\n",
      "'834,675,105' returns False\n",
      "'807,452,938' returns True\n",
      "'256,137,691' returns False\n",
      "'122,410,163' returns False\n",
      "'367,879,642' returns True\n",
      "'502,426,192' returns True\n",
      "'599,264,390' returns True\n",
      "'400,603,267' returns True\n",
      "'886,66,754' returns False\n",
      "'823,46,167' returns False\n",
      "'446,905,279' returns False\n",
      "'131,819,715' returns True\n",
      "'406,378,566' returns True\n",
      "'207,911,347' returns False\n",
      "'373,35,725' returns False\n",
      "'482,84,926' returns False\n",
      "'149,585,979' returns False\n",
      "'493,230,245' returns False\n",
      "'726,352,512' returns True\n",
      "'823,312,686' returns True\n",
      "'89,585,102' returns False\n",
      "'458,927,570' returns True\n",
      "'75,715,822' returns False\n",
      "'784,792,340' returns True\n",
      "'535,219,426' returns True\n",
      "'940,230,205' returns False\n",
      "'619,382,753' returns True\n",
      "'261,631,291' returns False\n",
      "'863,31,31' returns False\n",
      "'965,700,126' returns False\n",
      "'97,414,932' returns False\n",
      "'132,297,53' returns False\n",
      "'551,948,354' returns False\n",
      "'999,250,806' returns True\n",
      "'797,554,985' returns True\n",
      "'571,552,582' returns True\n",
      "'489,426,813' returns True\n",
      "'894,207,837' returns True\n",
      "'537,474,573' returns True\n",
      "'163,731,638' returns True\n",
      "'361,632,713' returns True\n",
      "'654,885,194' returns False\n",
      "'249,671,537' returns True\n",
      "'155,781,628' returns True\n",
      "'146,939,93' returns False\n",
      "'105,39,881' returns False\n",
      "'657,428,406' returns True\n",
      "'6,967,637' returns False\n",
      "'673,736,750' returns True\n",
      "'440,8,216' returns False\n",
      "'890,407,156' returns False\n",
      "'913,36,162' returns False\n",
      "'152,240,745' returns False\n",
      "'439,918,985' returns True\n",
      "'280,754,17' returns False\n",
      "'817,953,925' returns True\n",
      "'460,378,751' returns True\n",
      "'285,963,618' returns False\n",
      "'816,476,1000' returns True\n",
      "'826,750,249' returns True\n",
      "'907,871,294' returns True\n",
      "'700,709,985' returns True\n",
      "'966,227,731' returns False\n",
      "'847,276,848' returns True\n",
      "'343,598,729' returns True\n",
      "'541,577,744' returns True\n",
      "'751,672,24' returns False\n",
      "'889,286,8' returns False\n",
      "'71,806,428' returns False\n",
      "'144,638,919' returns False\n",
      "'670,542,214' returns True\n",
      "'320,809,950' returns True\n",
      "'250,331,480' returns True\n",
      "'766,393,856' returns True\n",
      "'270,510,626' returns True\n",
      "'254,661,939' returns False\n",
      "'623,785,764' returns True\n",
      "'57,291,166' returns False\n",
      "'641,89,714' returns True\n",
      "'585,917,854' returns True\n",
      "'601,789,831' returns True\n",
      "'59,114,78' returns True\n",
      "'406,588,905' returns True\n",
      "'378,21,577' returns False\n",
      "'736,963,176' returns False\n",
      "'187,77,125' returns True\n",
      "'812,183,158' returns False\n",
      "'126,462,576' returns True\n",
      "'25,250,764' returns False\n",
      "'843,195,187' returns False\n",
      "'411,704,808' returns True\n",
      "'356,123,240' returns True\n",
      "'878,966,276' returns True\n",
      "'611,908,821' returns True\n",
      "'445,155,589' returns True\n",
      "'386,356,764' returns False\n",
      "'55,110,647' returns False\n",
      "'963,527,928' returns True\n",
      "'239,668,383' returns False\n"
     ]
    }
   ],
   "source": [
    "import random\n",
    "\n",
    "test_list1 = [random.randint(0,1000) for i in range(100)]\n",
    "test_list2 = [random.randint(0,1000) for i in range(100)]\n",
    "test_list3 = [random.randint(0,1000) for i in range(100)]\n",
    "\n",
    "for i in range(len(test_list1)):\n",
    "    print(\"'{},{},{}' returns {}\".format(test_list1[i],\n",
    "                                         test_list2[i],\n",
    "                                         test_list3[i],\n",
    "                                                 is_triangle(test_list1[i], \n",
    "                                                             test_list2[i], \n",
    "                                                             test_list3[i]\n",
    "                                                            )))"
   ]
  }
 ],
 "metadata": {
  "kernelspec": {
   "display_name": "Python 3",
   "language": "python",
   "name": "python3"
  },
  "language_info": {
   "codemirror_mode": {
    "name": "ipython",
    "version": 3
   },
   "file_extension": ".py",
   "mimetype": "text/x-python",
   "name": "python",
   "nbconvert_exporter": "python",
   "pygments_lexer": "ipython3",
   "version": "3.7.3"
  }
 },
 "nbformat": 4,
 "nbformat_minor": 2
}
